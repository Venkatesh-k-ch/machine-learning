{
  "nbformat": 4,
  "nbformat_minor": 0,
  "metadata": {
    "colab": {
      "name": "Emnist_fashion.ipynb",
      "provenance": [],
      "collapsed_sections": []
    },
    "kernelspec": {
      "name": "python3",
      "display_name": "Python 3"
    },
    "accelerator": "GPU"
  },
  "cells": [
    {
      "cell_type": "code",
      "metadata": {
        "id": "NC3el1xr83e9",
        "colab_type": "code",
        "colab": {}
      },
      "source": [
        "#Loading the dataset mnist fashion \n",
        "from keras.datasets import fashion_mnist\n",
        "import numpy as np\n",
        "from keras.layers import Dense,Activation\n",
        "from keras.models import Sequential\n"
      ],
      "execution_count": 0,
      "outputs": []
    },
    {
      "cell_type": "code",
      "metadata": {
        "id": "GOVle94BBjeO",
        "colab_type": "code",
        "colab": {}
      },
      "source": [
        "#loading the data\n",
        "(x_train,y_train),(x_test,y_test)=fashion_mnist.load_data()"
      ],
      "execution_count": 0,
      "outputs": []
    },
    {
      "cell_type": "code",
      "metadata": {
        "id": "h9JMCogzCgfx",
        "colab_type": "code",
        "outputId": "d5f924bb-f613-4538-b6a2-bccd7f5579ce",
        "colab": {
          "base_uri": "https://localhost:8080/",
          "height": 34
        }
      },
      "source": [
        "#cheking for the shape\n",
        "x_train.shape,y_train.shape,x_test.shape,y_test.shape"
      ],
      "execution_count": 28,
      "outputs": [
        {
          "output_type": "execute_result",
          "data": {
            "text/plain": [
              "((60000, 28, 28), (60000,), (10000, 28, 28), (10000,))"
            ]
          },
          "metadata": {
            "tags": []
          },
          "execution_count": 28
        }
      ]
    },
    {
      "cell_type": "code",
      "metadata": {
        "id": "euuYLUPZDF08",
        "colab_type": "code",
        "outputId": "838a00a1-a0aa-462e-81b3-13c21f4d0217",
        "colab": {
          "base_uri": "https://localhost:8080/",
          "height": 51
        }
      },
      "source": [
        "#checking for number of labels\n",
        "print(len(np.unique(y_test)))\n",
        "#checking for the all labels\n",
        "print(np.unique(y_train))"
      ],
      "execution_count": 29,
      "outputs": [
        {
          "output_type": "stream",
          "text": [
            "10\n",
            "[0 1 2 3 4 5 6 7 8 9]\n"
          ],
          "name": "stdout"
        }
      ]
    },
    {
      "cell_type": "markdown",
      "metadata": {
        "id": "Zx7Bnv8dD9mY",
        "colab_type": "text"
      },
      "source": [
        "- Here we can see there are tottal ten lebels are there.So no our work is to build a model which can classify the labels by the data."
      ]
    },
    {
      "cell_type": "code",
      "metadata": {
        "id": "MAURilY0D8aC",
        "colab_type": "code",
        "outputId": "9f186fdf-d262-4ae2-d8ab-c569a9e9f9d6",
        "colab": {
          "base_uri": "https://localhost:8080/",
          "height": 285
        }
      },
      "source": [
        "#Lets display some images from our dataset\n",
        "import matplotlib.pyplot as plt\n",
        "plt.subplot(2,2,1)\n",
        "plt.imshow(x_train[1,:],cmap='gray')\n",
        "plt.subplot(2,2,2)\n",
        "plt.imshow(x_train[2,:],cmap='gray')\n",
        "plt.subplot(2,2,3)\n",
        "plt.imshow(x_train[3,:],cmap='gray')\n",
        "plt.subplot(2,2,4)\n",
        "plt.imshow(x_train[4,:],cmap='gray')"
      ],
      "execution_count": 30,
      "outputs": [
        {
          "output_type": "execute_result",
          "data": {
            "text/plain": [
              "<matplotlib.image.AxesImage at 0x7f8e99cdb2b0>"
            ]
          },
          "metadata": {
            "tags": []
          },
          "execution_count": 30
        },
        {
          "output_type": "display_data",
          "data": {
            "image/png": "[encoded data removed]",
            "text/plain": [
              "<Figure size 432x288 with 4 Axes>"
            ]
          },
          "metadata": {
            "tags": []
          }
        }
      ]
    },
    {
      "cell_type": "markdown",
      "metadata": {
        "id": "D1w959BlGGCT",
        "colab_type": "text"
      },
      "source": [
        "- Here you can see the clothes from in our datset.Its also contain shoes and all will see in next coming steps"
      ]
    },
    {
      "cell_type": "code",
      "metadata": {
        "id": "eWFl63SrD6CU",
        "colab_type": "code",
        "outputId": "3ba5cbf7-f019-4c47-902d-284b8b98363f",
        "colab": {
          "base_uri": "https://localhost:8080/",
          "height": 34
        }
      },
      "source": [
        "#lets check the shape of our images\n",
        "print(np.shape(x_train[1]))\n",
        "#lets normalize the data\n",
        "x_train=x_train/255\n",
        "x_test=x_test/255"
      ],
      "execution_count": 31,
      "outputs": [
        {
          "output_type": "stream",
          "text": [
            "(28, 28)\n"
          ],
          "name": "stdout"
        }
      ]
    },
    {
      "cell_type": "markdown",
      "metadata": {
        "id": "lO-b1h0KM84d",
        "colab_type": "text"
      },
      "source": [
        "- The images in our datset are of size 28*28"
      ]
    },
    {
      "cell_type": "code",
      "metadata": {
        "id": "V1rbfN5LMvUO",
        "colab_type": "code",
        "colab": {}
      },
      "source": [
        "#Lets costruct the model \n",
        "from keras.layers import Flatten\n"
      ],
      "execution_count": 0,
      "outputs": []
    },
    {
      "cell_type": "code",
      "metadata": {
        "id": "xp0ZVf8hNVst",
        "colab_type": "code",
        "colab": {}
      },
      "source": [
        "# instantietion\n",
        "model=Sequential()\n"
      ],
      "execution_count": 0,
      "outputs": []
    },
    {
      "cell_type": "code",
      "metadata": {
        "id": "pIGQmloMNd0Y",
        "colab_type": "code",
        "colab": {}
      },
      "source": [
        "model.add(Flatten(input_shape=[28,28])) #Here we are flattening the images\n",
        "model.add(Dense(40,activation='relu')) #Adding the activation function with 784 neurons along with activation function ReLU\n",
        "model.add(Dense(10,activation='softmax')) #Adding the output layer with ten nerons along with softmax activation function\n"
      ],
      "execution_count": 0,
      "outputs": []
    },
    {
      "cell_type": "code",
      "metadata": {
        "id": "aCZrHPMdPonE",
        "colab_type": "code",
        "outputId": "1d1f3305-57c2-4e9c-e505-a67a89aea449",
        "colab": {
          "base_uri": "https://localhost:8080/",
          "height": 255
        }
      },
      "source": [
        "# Lets check the summary\n",
        "model.summary()"
      ],
      "execution_count": 35,
      "outputs": [
        {
          "output_type": "stream",
          "text": [
            "Model: \"sequential_2\"\n",
            "_________________________________________________________________\n",
            "Layer (type)                 Output Shape              Param #   \n",
            "=================================================================\n",
            "flatten_2 (Flatten)          (None, 784)               0         \n",
            "_________________________________________________________________\n",
            "dense_3 (Dense)              (None, 40)                31400     \n",
            "_________________________________________________________________\n",
            "dense_4 (Dense)              (None, 10)                410       \n",
            "=================================================================\n",
            "Total params: 31,810\n",
            "Trainable params: 31,810\n",
            "Non-trainable params: 0\n",
            "_________________________________________________________________\n"
          ],
          "name": "stdout"
        }
      ]
    },
    {
      "cell_type": "code",
      "metadata": {
        "id": "dzPGQ8OaQXAM",
        "colab_type": "code",
        "colab": {}
      },
      "source": [
        "#Now comppile our model\n",
        "model.compile(optimizer='adam',loss='sparse_categorical_crossentropy',metrics=['accuracy'])"
      ],
      "execution_count": 0,
      "outputs": []
    },
    {
      "cell_type": "code",
      "metadata": {
        "id": "pN9BHpSHQ-PF",
        "colab_type": "code",
        "outputId": "bbfe2a75-15fe-4b05-ffa7-f92c10ce1f5e",
        "colab": {
          "base_uri": "https://localhost:8080/",
          "height": 68
        }
      },
      "source": [
        "#Now its time to fit the model with our data\n",
        "model.fit(x_train,y_train)"
      ],
      "execution_count": 37,
      "outputs": [
        {
          "output_type": "stream",
          "text": [
            "Epoch 1/1\n",
            "60000/60000 [==============================] - 7s 123us/step - loss: 0.5384 - acc: 0.8152\n"
          ],
          "name": "stdout"
        },
        {
          "output_type": "execute_result",
          "data": {
            "text/plain": [
              "<keras.callbacks.History at 0x7f8e99db5320>"
            ]
          },
          "metadata": {
            "tags": []
          },
          "execution_count": 37
        }
      ]
    },
    {
      "cell_type": "markdown",
      "metadata": {
        "id": "91lezRVORW2V",
        "colab_type": "text"
      },
      "source": [
        "- Here you can see that our loss is high lets add one aurgumant called epoch "
      ]
    },
    {
      "cell_type": "code",
      "metadata": {
        "id": "FeOxtucfRO87",
        "colab_type": "code",
        "outputId": "f1a8ff10-ce22-46d0-8e6d-99aab4dfccd2",
        "colab": {
          "base_uri": "https://localhost:8080/",
          "height": 714
        }
      },
      "source": [
        "model.fit(x_train,y_train,epochs=20)"
      ],
      "execution_count": 38,
      "outputs": [
        {
          "output_type": "stream",
          "text": [
            "Epoch 1/20\n",
            "60000/60000 [==============================] - 7s 120us/step - loss: 0.4067 - acc: 0.8574\n",
            "Epoch 2/20\n",
            "60000/60000 [==============================] - 7s 119us/step - loss: 0.3723 - acc: 0.8677\n",
            "Epoch 3/20\n",
            "60000/60000 [==============================] - 7s 121us/step - loss: 0.3483 - acc: 0.8744\n",
            "Epoch 4/20\n",
            "60000/60000 [==============================] - 7s 120us/step - loss: 0.3322 - acc: 0.8803\n",
            "Epoch 5/20\n",
            "60000/60000 [==============================] - 7s 120us/step - loss: 0.3178 - acc: 0.8849\n",
            "Epoch 6/20\n",
            "60000/60000 [==============================] - 7s 120us/step - loss: 0.3090 - acc: 0.8874\n",
            "Epoch 7/20\n",
            "60000/60000 [==============================] - 7s 121us/step - loss: 0.2985 - acc: 0.8909\n",
            "Epoch 8/20\n",
            "60000/60000 [==============================] - 7s 121us/step - loss: 0.2904 - acc: 0.8932\n",
            "Epoch 9/20\n",
            "60000/60000 [==============================] - 7s 119us/step - loss: 0.2816 - acc: 0.8957\n",
            "Epoch 10/20\n",
            "60000/60000 [==============================] - 7s 120us/step - loss: 0.2780 - acc: 0.8974\n",
            "Epoch 11/20\n",
            "60000/60000 [==============================] - 7s 120us/step - loss: 0.2696 - acc: 0.9011\n",
            "Epoch 12/20\n",
            "60000/60000 [==============================] - 7s 119us/step - loss: 0.2650 - acc: 0.9011\n",
            "Epoch 13/20\n",
            "60000/60000 [==============================] - 7s 120us/step - loss: 0.2602 - acc: 0.9038\n",
            "Epoch 14/20\n",
            "60000/60000 [==============================] - 7s 120us/step - loss: 0.2551 - acc: 0.9062\n",
            "Epoch 15/20\n",
            "60000/60000 [==============================] - 7s 120us/step - loss: 0.2537 - acc: 0.9051\n",
            "Epoch 16/20\n",
            "60000/60000 [==============================] - 7s 120us/step - loss: 0.2457 - acc: 0.9087\n",
            "Epoch 17/20\n",
            "60000/60000 [==============================] - 7s 121us/step - loss: 0.2432 - acc: 0.9094\n",
            "Epoch 18/20\n",
            "60000/60000 [==============================] - 7s 119us/step - loss: 0.2392 - acc: 0.9103\n",
            "Epoch 19/20\n",
            "60000/60000 [==============================] - 7s 119us/step - loss: 0.2368 - acc: 0.9124\n",
            "Epoch 20/20\n",
            "60000/60000 [==============================] - 7s 119us/step - loss: 0.2315 - acc: 0.9129\n"
          ],
          "name": "stdout"
        },
        {
          "output_type": "execute_result",
          "data": {
            "text/plain": [
              "<keras.callbacks.History at 0x7f8e99b76668>"
            ]
          },
          "metadata": {
            "tags": []
          },
          "execution_count": 38
        }
      ]
    },
    {
      "cell_type": "markdown",
      "metadata": {
        "id": "Y5b1po-YTeNa",
        "colab_type": "text"
      },
      "source": [
        "- epochs is nothing but number of iteration to repeat the backpropagation process to be repeated. You can see that there at some point our loss become constant, that means it has reached its local minima. "
      ]
    },
    {
      "cell_type": "code",
      "metadata": {
        "id": "EpFcwO78Rqp6",
        "colab_type": "code",
        "outputId": "0a9d90d2-b305-4f66-be03-cccbf872a099",
        "colab": {
          "base_uri": "https://localhost:8080/",
          "height": 51
        }
      },
      "source": [
        "model.evaluate(x_test,y_test) #lets evaluate the model"
      ],
      "execution_count": 39,
      "outputs": [
        {
          "output_type": "stream",
          "text": [
            "10000/10000 [==============================] - 1s 64us/step\n"
          ],
          "name": "stdout"
        },
        {
          "output_type": "execute_result",
          "data": {
            "text/plain": [
              "[0.37346610754728315, 0.8721]"
            ]
          },
          "metadata": {
            "tags": []
          },
          "execution_count": 39
        }
      ]
    },
    {
      "cell_type": "markdown",
      "metadata": {
        "id": "tBZp12B6bZx2",
        "colab_type": "text"
      },
      "source": [
        "- our model giving the accuracy of 88% and loss of 35."
      ]
    },
    {
      "cell_type": "code",
      "metadata": {
        "id": "2n1eZG4PbFm9",
        "colab_type": "code",
        "colab": {}
      },
      "source": [
        "y=model.predict(x_test)"
      ],
      "execution_count": 0,
      "outputs": []
    },
    {
      "cell_type": "code",
      "metadata": {
        "id": "igFoOE-abPeB",
        "colab_type": "code",
        "outputId": "0cd23273-fac8-48c7-eb44-3e72e36da10f",
        "colab": {
          "base_uri": "https://localhost:8080/",
          "height": 282
        }
      },
      "source": [
        "plt.imshow(x_test[1])"
      ],
      "execution_count": 41,
      "outputs": [
        {
          "output_type": "execute_result",
          "data": {
            "text/plain": [
              "<matplotlib.image.AxesImage at 0x7f8e99b123c8>"
            ]
          },
          "metadata": {
            "tags": []
          },
          "execution_count": 41
        },
        {
          "output_type": "display_data",
          "data": {
            "image/png": "[encoded data removed]",
            "text/plain": [
              "<Figure size 432x288 with 1 Axes>"
            ]
          },
          "metadata": {
            "tags": []
          }
        }
      ]
    },
    {
      "cell_type": "code",
      "metadata": {
        "id": "Z9EPh_Z4bm6q",
        "colab_type": "code",
        "outputId": "7328f9f3-1cfb-4312-e7b2-99f6ecb5cbf2",
        "colab": {
          "base_uri": "https://localhost:8080/",
          "height": 68
        }
      },
      "source": [
        "y[1]"
      ],
      "execution_count": 42,
      "outputs": [
        {
          "output_type": "execute_result",
          "data": {
            "text/plain": [
              "array([1.4002162e-06, 4.4726812e-14, 9.9617910e-01, 9.3384762e-13,\n",
              "       3.6276979e-03, 2.1250227e-22, 1.9176817e-04, 3.5052510e-24,\n",
              "       3.1488098e-10, 1.7663720e-26], dtype=float32)"
            ]
          },
          "metadata": {
            "tags": []
          },
          "execution_count": 42
        }
      ]
    },
    {
      "cell_type": "code",
      "metadata": {
        "id": "EiIHRmA6bwE2",
        "colab_type": "code",
        "outputId": "2a7942ae-224d-40b3-95c7-fcef1db677c4",
        "colab": {
          "base_uri": "https://localhost:8080/",
          "height": 34
        }
      },
      "source": [
        "np.argmax(y[1])"
      ],
      "execution_count": 43,
      "outputs": [
        {
          "output_type": "execute_result",
          "data": {
            "text/plain": [
              "2"
            ]
          },
          "metadata": {
            "tags": []
          },
          "execution_count": 43
        }
      ]
    },
    {
      "cell_type": "markdown",
      "metadata": {
        "id": "RGfRcmsic88B",
        "colab_type": "text"
      },
      "source": [
        "- [T-shirt/top,Trouser,Pullover,Dress,Coat,Sandal,Shirt,Sneaker,Bag,Ankle boot] these all things are present in the labels,and our model predicted correctly."
      ]
    },
    {
      "cell_type": "markdown",
      "metadata": {
        "id": "AH0KpDO4csrE",
        "colab_type": "text"
      },
      "source": [
        "# now lets start with CNN"
      ]
    },
    {
      "cell_type": "code",
      "metadata": {
        "id": "fNQ2KSvCb09i",
        "colab_type": "code",
        "colab": {}
      },
      "source": [
        "from keras.layers import Conv2D,MaxPooling2D,Dropout\n",
        "from keras.utils import to_categorical"
      ],
      "execution_count": 0,
      "outputs": []
    },
    {
      "cell_type": "code",
      "metadata": {
        "id": "9yWcNo1_pIp0",
        "colab_type": "code",
        "colab": {}
      },
      "source": [
        "#loading the data\n",
        "(x_train,y_train),(x_test,y_test)=fashion_mnist.load_data()"
      ],
      "execution_count": 0,
      "outputs": []
    },
    {
      "cell_type": "code",
      "metadata": {
        "id": "HO5V4CtBpKVI",
        "colab_type": "code",
        "colab": {}
      },
      "source": [
        "#Reshaping the data\n",
        "x_train=x_train.reshape(-1,28,28,1)\n",
        "x_test=x_test.reshape(-1,28,28,1)\n"
      ],
      "execution_count": 0,
      "outputs": []
    },
    {
      "cell_type": "code",
      "metadata": {
        "id": "DGe3J8Ubp9RZ",
        "colab_type": "code",
        "colab": {
          "base_uri": "https://localhost:8080/",
          "height": 34
        },
        "outputId": "9fdd1d65-b603-44b7-c749-74df80cd2079"
      },
      "source": [
        "#Normalizing the data\n",
        "x_train=x_train/255\n",
        "x_test=x_test/255\n",
        "x_test[0].shape"
      ],
      "execution_count": 77,
      "outputs": [
        {
          "output_type": "execute_result",
          "data": {
            "text/plain": [
              "(28, 28, 1)"
            ]
          },
          "metadata": {
            "tags": []
          },
          "execution_count": 77
        }
      ]
    },
    {
      "cell_type": "code",
      "metadata": {
        "id": "TgFy4NBLevRN",
        "colab_type": "code",
        "colab": {}
      },
      "source": [
        "# Lets convert the labels to one hot encoding\n",
        "y_train_one=to_categorical(y_train)\n",
        "y_test_one=to_categorical(y_test)"
      ],
      "execution_count": 0,
      "outputs": []
    },
    {
      "cell_type": "code",
      "metadata": {
        "id": "lVrfluLbfSvT",
        "colab_type": "code",
        "colab": {
          "base_uri": "https://localhost:8080/",
          "height": 51
        },
        "outputId": "f3480cef-504b-40df-8023-131b9bef5deb"
      },
      "source": [
        "# Lets see how encoded labels look like\n",
        "print(y_train[1])\n",
        "print(y_train_one[1])"
      ],
      "execution_count": 79,
      "outputs": [
        {
          "output_type": "stream",
          "text": [
            "0\n",
            "[1. 0. 0. 0. 0. 0. 0. 0. 0. 0.]\n"
          ],
          "name": "stdout"
        }
      ]
    },
    {
      "cell_type": "code",
      "metadata": {
        "id": "5vGAQhm7jG4e",
        "colab_type": "code",
        "colab": {
          "base_uri": "https://localhost:8080/",
          "height": 122
        },
        "outputId": "2cd813fc-40a4-4090-864c-58a0f371b6fb"
      },
      "source": [
        "#Lets construct a model\n",
        "model_cnn=Sequential()\n",
        "model_cnn.add(Conv2D(32,(3,3),padding='same',activation='relu',input_shape=(28,28,1))) #Adding convonutional with depth of 32 and kernal size with 3*3\n",
        "model_cnn.add(MaxPooling2D(pool_size=(2,2))) #Adding the Maxpool of size 2*2\n",
        "model_cnn.add(Conv2D(16,(3,3),padding='same',activation='relu'))\n",
        "model_cnn.add(MaxPooling2D(pool_size=(2,2)))\n",
        "model_cnn.add(Flatten()) #Here we flattening our data\n",
        "model_cnn.add(Dense(64,activation='relu'))\n",
        "model_cnn.add(Dropout(.2)) #Here i am adding droupot with 0.2 this means it will remove the 20% of the unwanted neurons\n",
        "model_cnn.add(Dense(10,activation='softmax'))\n"
      ],
      "execution_count": 97,
      "outputs": [
        {
          "output_type": "stream",
          "text": [
            "WARNING:tensorflow:From /usr/local/lib/python3.6/dist-packages/keras/backend/tensorflow_backend.py:148: The name tf.placeholder_with_default is deprecated. Please use tf.compat.v1.placeholder_with_default instead.\n",
            "\n",
            "WARNING:tensorflow:From /usr/local/lib/python3.6/dist-packages/keras/backend/tensorflow_backend.py:3733: calling dropout (from tensorflow.python.ops.nn_ops) with keep_prob is deprecated and will be removed in a future version.\n",
            "Instructions for updating:\n",
            "Please use `rate` instead of `keep_prob`. Rate should be set to `rate = 1 - keep_prob`.\n"
          ],
          "name": "stdout"
        }
      ]
    },
    {
      "cell_type": "code",
      "metadata": {
        "id": "rDyzQlUInnbp",
        "colab_type": "code",
        "colab": {
          "base_uri": "https://localhost:8080/",
          "height": 479
        },
        "outputId": "7da4dc02-9acb-41e2-cff3-fd0d7902dc8b"
      },
      "source": [
        "model.summary() #summary of our model"
      ],
      "execution_count": 98,
      "outputs": [
        {
          "output_type": "stream",
          "text": [
            "Model: \"sequential_2\"\n",
            "_________________________________________________________________\n",
            "Layer (type)                 Output Shape              Param #   \n",
            "=================================================================\n",
            "flatten_2 (Flatten)          (None, 784)               0         \n",
            "_________________________________________________________________\n",
            "dense_3 (Dense)              (None, 40)                31400     \n",
            "_________________________________________________________________\n",
            "dense_4 (Dense)              (None, 10)                410       \n",
            "_________________________________________________________________\n",
            "dense_5 (Dense)              (None, 64)                704       \n",
            "_________________________________________________________________\n",
            "dense_7 (Dense)              (None, 64)                4160      \n",
            "_________________________________________________________________\n",
            "dense_8 (Dense)              (None, 10)                650       \n",
            "_________________________________________________________________\n",
            "dense_9 (Dense)              (None, 64)                704       \n",
            "_________________________________________________________________\n",
            "dense_10 (Dense)             (None, 10)                650       \n",
            "=================================================================\n",
            "Total params: 31,810\n",
            "Trainable params: 31,810\n",
            "Non-trainable params: 0\n",
            "_________________________________________________________________\n"
          ],
          "name": "stdout"
        },
        {
          "output_type": "stream",
          "text": [
            "/usr/local/lib/python3.6/dist-packages/keras/engine/training.py:493: UserWarning: Discrepancy between trainable weights and collected trainable weights, did you set `model.trainable` without calling `model.compile` after ?\n",
            "  'Discrepancy between trainable weights and collected trainable'\n"
          ],
          "name": "stderr"
        }
      ]
    },
    {
      "cell_type": "code",
      "metadata": {
        "id": "-wqAns-NtkJz",
        "colab_type": "code",
        "colab": {}
      },
      "source": [
        "model_cnn.compile(optimizer='adam',loss='sparse_categorical_crossentropy',metrics=['accuracy'])"
      ],
      "execution_count": 0,
      "outputs": []
    },
    {
      "cell_type": "code",
      "metadata": {
        "id": "DOy9UthZuzt9",
        "colab_type": "code",
        "colab": {
          "base_uri": "https://localhost:8080/",
          "height": 68
        },
        "outputId": "141a522f-c71c-4c7a-86d0-73106be4fd68"
      },
      "source": [
        "model_cnn.fit(x_train,y_train)"
      ],
      "execution_count": 100,
      "outputs": [
        {
          "output_type": "stream",
          "text": [
            "Epoch 1/1\n",
            "60000/60000 [==============================] - 13s 212us/step - loss: 0.5199 - acc: 0.8126\n"
          ],
          "name": "stdout"
        },
        {
          "output_type": "execute_result",
          "data": {
            "text/plain": [
              "<keras.callbacks.History at 0x7f8e994c4978>"
            ]
          },
          "metadata": {
            "tags": []
          },
          "execution_count": 100
        }
      ]
    },
    {
      "cell_type": "code",
      "metadata": {
        "id": "RFsfYb83vUJd",
        "colab_type": "code",
        "colab": {
          "base_uri": "https://localhost:8080/",
          "height": 204
        },
        "outputId": "c2c2689a-cd5c-4428-e312-691ae53ff8db"
      },
      "source": [
        "model_cnn.fit(x_train,y_train,epochs=5)"
      ],
      "execution_count": 101,
      "outputs": [
        {
          "output_type": "stream",
          "text": [
            "Epoch 1/5\n",
            "60000/60000 [==============================] - 12s 207us/step - loss: 0.3495 - acc: 0.8734\n",
            "Epoch 2/5\n",
            "60000/60000 [==============================] - 12s 206us/step - loss: 0.3031 - acc: 0.8897\n",
            "Epoch 3/5\n",
            "60000/60000 [==============================] - 12s 204us/step - loss: 0.2763 - acc: 0.8992\n",
            "Epoch 4/5\n",
            "60000/60000 [==============================] - 12s 204us/step - loss: 0.2515 - acc: 0.9073\n",
            "Epoch 5/5\n",
            "60000/60000 [==============================] - 12s 205us/step - loss: 0.2358 - acc: 0.9135\n"
          ],
          "name": "stdout"
        },
        {
          "output_type": "execute_result",
          "data": {
            "text/plain": [
              "<keras.callbacks.History at 0x7f8e99459b70>"
            ]
          },
          "metadata": {
            "tags": []
          },
          "execution_count": 101
        }
      ]
    },
    {
      "cell_type": "code",
      "metadata": {
        "id": "yO33wi2VxJoj",
        "colab_type": "code",
        "colab": {
          "base_uri": "https://localhost:8080/",
          "height": 51
        },
        "outputId": "5642921e-d8e8-4298-e567-068a57ca2b4d"
      },
      "source": [
        "model_cnn.evaluate(x_test,y_test)"
      ],
      "execution_count": 103,
      "outputs": [
        {
          "output_type": "stream",
          "text": [
            "10000/10000 [==============================] - 1s 93us/step\n"
          ],
          "name": "stdout"
        },
        {
          "output_type": "execute_result",
          "data": {
            "text/plain": [
              "[0.25965528067350385, 0.9074]"
            ]
          },
          "metadata": {
            "tags": []
          },
          "execution_count": 103
        }
      ]
    },
    {
      "cell_type": "code",
      "metadata": {
        "id": "d7vwOOABzIvT",
        "colab_type": "code",
        "colab": {}
      },
      "source": [
        "y=model_cnn.predict(x_test)"
      ],
      "execution_count": 0,
      "outputs": []
    },
    {
      "cell_type": "code",
      "metadata": {
        "id": "Er9DzDoazyfc",
        "colab_type": "code",
        "colab": {
          "base_uri": "https://localhost:8080/",
          "height": 282
        },
        "outputId": "0ba27648-1ccc-4089-e407-a438deff411d"
      },
      "source": [
        "plt.imshow(x_test[0])"
      ],
      "execution_count": 112,
      "outputs": [
        {
          "output_type": "execute_result",
          "data": {
            "text/plain": [
              "<matplotlib.image.AxesImage at 0x7f8e991419e8>"
            ]
          },
          "metadata": {
            "tags": []
          },
          "execution_count": 112
        },
        {
          "output_type": "display_data",
          "data": {
            "image/png": "[encoded data removed]",
            "text/plain": [
              "<Figure size 432x288 with 1 Axes>"
            ]
          },
          "metadata": {
            "tags": []
          }
        }
      ]
    },
    {
      "cell_type": "code",
      "metadata": {
        "id": "P3b6a0LR0gi0",
        "colab_type": "code",
        "colab": {
          "base_uri": "https://localhost:8080/",
          "height": 34
        },
        "outputId": "b59bbcdd-77cd-4ce1-cade-f9b839f23a96"
      },
      "source": [
        "np.argmax(y[0])"
      ],
      "execution_count": 114,
      "outputs": [
        {
          "output_type": "execute_result",
          "data": {
            "text/plain": [
              "9"
            ]
          },
          "metadata": {
            "tags": []
          },
          "execution_count": 114
        }
      ]
    },
    {
      "cell_type": "markdown",
      "metadata": {
        "id": "i7pPFbCd1o3b",
        "colab_type": "text"
      },
      "source": [
        "- [T-shirt/top,Trouser,Pullover,Dress,Coat,Sandal,Shirt,Sneaker,Bag,Ankle boot]"
      ]
    },
    {
      "cell_type": "markdown",
      "metadata": {
        "id": "Xw6vAPXl1siK",
        "colab_type": "text"
      },
      "source": [
        "- Model is working good."
      ]
    },
    {
      "cell_type": "markdown",
      "metadata": {
        "id": "ozBH7xr82pLu",
        "colab_type": "text"
      },
      "source": [
        "- Here we can for small epochs its giving the good result. Because if we use cnn the computation cost reduces."
      ]
    },
    {
      "cell_type": "code",
      "metadata": {
        "id": "rNbHrTX91dAw",
        "colab_type": "code",
        "colab": {}
      },
      "source": [
        ""
      ],
      "execution_count": 0,
      "outputs": []
    }
  ]
}
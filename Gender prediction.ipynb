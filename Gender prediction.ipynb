{
 "cells": [
  {
   "cell_type": "code",
   "execution_count": 1,
   "metadata": {},
   "outputs": [],
   "source": [
    "#Loading the libraries\n",
    "import pandas as pd\n",
    "import numpy as np\n",
    "import seaborn as sns\n",
    "import matplotlib.pyplot as plt\n",
    "import nltk\n",
    "import re\n",
    "from nltk.tokenize import word_tokenize,sent_tokenize\n",
    "from nltk.stem import PorterStemmer,WordNetLemmatizer\n",
    "from nltk.tag import pos_tag\n",
    "from nltk.corpus import stopwords\n",
    "from nltk import chunk\n",
    "from sklearn.naive_bayes import MultinomialNB\n",
    "from sklearn.feature_extraction.text import TfidfVectorizer,CountVectorizer"
   ]
  },
  {
   "cell_type": "code",
   "execution_count": 2,
   "metadata": {},
   "outputs": [],
   "source": [
    "#Reading the dataset\n",
    "data=pd.read_csv(\"train.csv\")"
   ]
  },
  {
   "cell_type": "markdown",
   "metadata": {},
   "source": [
    "# Analysis"
   ]
  },
  {
   "cell_type": "code",
   "execution_count": 3,
   "metadata": {},
   "outputs": [
    {
     "data": {
      "text/html": [
       "<div>\n",
       "<style scoped>\n",
       "    .dataframe tbody tr th:only-of-type {\n",
       "        vertical-align: middle;\n",
       "    }\n",
       "\n",
       "    .dataframe tbody tr th {\n",
       "        vertical-align: top;\n",
       "    }\n",
       "\n",
       "    .dataframe thead th {\n",
       "        text-align: right;\n",
       "    }\n",
       "</style>\n",
       "<table border=\"1\" class=\"dataframe\">\n",
       "  <thead>\n",
       "    <tr style=\"text-align: right;\">\n",
       "      <th></th>\n",
       "      <th>name</th>\n",
       "      <th>gender</th>\n",
       "    </tr>\n",
       "  </thead>\n",
       "  <tbody>\n",
       "    <tr>\n",
       "      <td>0</td>\n",
       "      <td>Mary</td>\n",
       "      <td>F</td>\n",
       "    </tr>\n",
       "    <tr>\n",
       "      <td>1</td>\n",
       "      <td>Anna</td>\n",
       "      <td>F</td>\n",
       "    </tr>\n",
       "    <tr>\n",
       "      <td>2</td>\n",
       "      <td>Emma</td>\n",
       "      <td>F</td>\n",
       "    </tr>\n",
       "    <tr>\n",
       "      <td>3</td>\n",
       "      <td>Elizabeth</td>\n",
       "      <td>F</td>\n",
       "    </tr>\n",
       "    <tr>\n",
       "      <td>4</td>\n",
       "      <td>Minnie</td>\n",
       "      <td>F</td>\n",
       "    </tr>\n",
       "  </tbody>\n",
       "</table>\n",
       "</div>"
      ],
      "text/plain": [
       "        name gender\n",
       "0       Mary      F\n",
       "1       Anna      F\n",
       "2       Emma      F\n",
       "3  Elizabeth      F\n",
       "4     Minnie      F"
      ]
     },
     "execution_count": 3,
     "metadata": {},
     "output_type": "execute_result"
    }
   ],
   "source": [
    "data.head()"
   ]
  },
  {
   "cell_type": "code",
   "execution_count": 4,
   "metadata": {},
   "outputs": [
    {
     "data": {
      "text/plain": [
       "(60000, 2)"
      ]
     },
     "execution_count": 4,
     "metadata": {},
     "output_type": "execute_result"
    }
   ],
   "source": [
    "#Chwcking the shape of our dataset\n",
    "data.shape "
   ]
  },
  {
   "cell_type": "code",
   "execution_count": 5,
   "metadata": {},
   "outputs": [
    {
     "data": {
      "text/plain": [
       "name      0\n",
       "gender    0\n",
       "dtype: int64"
      ]
     },
     "execution_count": 5,
     "metadata": {},
     "output_type": "execute_result"
    }
   ],
   "source": [
    "# Checking for the null values\n",
    "data.isnull().sum()"
   ]
  },
  {
   "cell_type": "code",
   "execution_count": 6,
   "metadata": {},
   "outputs": [
    {
     "data": {
      "text/plain": [
       "F    39445\n",
       "M    20555\n",
       "Name: gender, dtype: int64"
      ]
     },
     "execution_count": 6,
     "metadata": {},
     "output_type": "execute_result"
    }
   ],
   "source": [
    "# Checking for bias classification\n",
    "data[\"gender\"].value_counts()"
   ]
  },
  {
   "cell_type": "code",
   "execution_count": 7,
   "metadata": {},
   "outputs": [
    {
     "data": {
      "text/plain": [
       "0"
      ]
     },
     "execution_count": 7,
     "metadata": {},
     "output_type": "execute_result"
    }
   ],
   "source": [
    "#Checking for the diplicated entries\n",
    "data.duplicated().sum()"
   ]
  },
  {
   "cell_type": "code",
   "execution_count": 8,
   "metadata": {},
   "outputs": [],
   "source": [
    "# Getting the male and female counts\n",
    "F_count,M_count=data[\"gender\"].value_counts()"
   ]
  },
  {
   "cell_type": "code",
   "execution_count": 9,
   "metadata": {},
   "outputs": [
    {
     "data": {
      "text/plain": [
       "39445"
      ]
     },
     "execution_count": 9,
     "metadata": {},
     "output_type": "execute_result"
    }
   ],
   "source": [
    "F_count"
   ]
  },
  {
   "cell_type": "code",
   "execution_count": 10,
   "metadata": {},
   "outputs": [
    {
     "data": {
      "text/plain": [
       "20555"
      ]
     },
     "execution_count": 10,
     "metadata": {},
     "output_type": "execute_result"
    }
   ],
   "source": [
    "M_count"
   ]
  },
  {
   "cell_type": "code",
   "execution_count": 11,
   "metadata": {},
   "outputs": [],
   "source": [
    "#Converting the names into Lower case\n",
    "data[\"name\"]=data[\"name\"].str.lower()"
   ]
  },
  {
   "cell_type": "code",
   "execution_count": 12,
   "metadata": {},
   "outputs": [
    {
     "data": {
      "text/html": [
       "<div>\n",
       "<style scoped>\n",
       "    .dataframe tbody tr th:only-of-type {\n",
       "        vertical-align: middle;\n",
       "    }\n",
       "\n",
       "    .dataframe tbody tr th {\n",
       "        vertical-align: top;\n",
       "    }\n",
       "\n",
       "    .dataframe thead th {\n",
       "        text-align: right;\n",
       "    }\n",
       "</style>\n",
       "<table border=\"1\" class=\"dataframe\">\n",
       "  <thead>\n",
       "    <tr style=\"text-align: right;\">\n",
       "      <th></th>\n",
       "      <th>name</th>\n",
       "      <th>gender</th>\n",
       "    </tr>\n",
       "  </thead>\n",
       "  <tbody>\n",
       "    <tr>\n",
       "      <td>0</td>\n",
       "      <td>mary</td>\n",
       "      <td>F</td>\n",
       "    </tr>\n",
       "    <tr>\n",
       "      <td>1</td>\n",
       "      <td>anna</td>\n",
       "      <td>F</td>\n",
       "    </tr>\n",
       "    <tr>\n",
       "      <td>2</td>\n",
       "      <td>emma</td>\n",
       "      <td>F</td>\n",
       "    </tr>\n",
       "    <tr>\n",
       "      <td>3</td>\n",
       "      <td>elizabeth</td>\n",
       "      <td>F</td>\n",
       "    </tr>\n",
       "    <tr>\n",
       "      <td>4</td>\n",
       "      <td>minnie</td>\n",
       "      <td>F</td>\n",
       "    </tr>\n",
       "  </tbody>\n",
       "</table>\n",
       "</div>"
      ],
      "text/plain": [
       "        name gender\n",
       "0       mary      F\n",
       "1       anna      F\n",
       "2       emma      F\n",
       "3  elizabeth      F\n",
       "4     minnie      F"
      ]
     },
     "execution_count": 12,
     "metadata": {},
     "output_type": "execute_result"
    }
   ],
   "source": [
    "data.head()"
   ]
  },
  {
   "cell_type": "code",
   "execution_count": 13,
   "metadata": {},
   "outputs": [
    {
     "data": {
      "text/plain": [
       "7"
      ]
     },
     "execution_count": 13,
     "metadata": {},
     "output_type": "execute_result"
    }
   ],
   "source": [
    "#Checking for the max length of the name in our names\n",
    "len(data[\"name\"].max())"
   ]
  },
  {
   "cell_type": "code",
   "execution_count": 14,
   "metadata": {},
   "outputs": [
    {
     "data": {
      "text/plain": [
       "5"
      ]
     },
     "execution_count": 14,
     "metadata": {},
     "output_type": "execute_result"
    }
   ],
   "source": [
    "#Checking for the min length of the name in our names\n",
    "len(data[\"name\"].min())"
   ]
  },
  {
   "cell_type": "code",
   "execution_count": 15,
   "metadata": {},
   "outputs": [],
   "source": [
    "# Expanding names into separate catageries so that our model should learn nicely\n",
    "expanded=[]\n",
    "for i in data[\"name\"]:\n",
    "\n",
    "    expanded.append(i[0]+\" \"+i[:2]+\" \"+i[:3]+\" \"+i[-1]+\" \"+i[-3:]+\" \"+i[-2:])"
   ]
  },
  {
   "cell_type": "code",
   "execution_count": 16,
   "metadata": {},
   "outputs": [
    {
     "data": {
      "text/plain": [
       "['m ma mar y ary ry',\n",
       " 'a an ann a nna na',\n",
       " 'e em emm a mma ma',\n",
       " 'e el eli h eth th',\n",
       " 'm mi min e nie ie',\n",
       " 'm ma mar t ret et',\n",
       " 'i id ida a ida da',\n",
       " 'a al ali e ice ce',\n",
       " 'b be ber a tha ha',\n",
       " 's sa sar h rah ah',\n",
       " 'a an ann e nie ie',\n",
       " 'c cl cla a ara ra',\n",
       " 'e el ell a lla la',\n",
       " 'f fl flo e nce ce',\n",
       " 'c co cor a ora ra',\n",
       " 'm ma mar a tha ha',\n",
       " 'l la lau a ura ra',\n",
       " 'n ne nel e lie ie',\n",
       " 'g gr gra e ace ce',\n",
       " 'c ca car e rie ie',\n",
       " 'm ma mau e ude de',\n",
       " 'm ma mab l bel el',\n",
       " 'b be bes e sie ie',\n",
       " 'j je jen e nie ie',\n",
       " 'g ge ger e ude de',\n",
       " 'j ju jul a lia ia',\n",
       " 'h ha hat e tie ie',\n",
       " 'e ed edi h ith th',\n",
       " 'm ma mat e tie ie',\n",
       " 'r ro ros e ose se',\n",
       " 'c ca cat e ine ne',\n",
       " 'l li lil n ian an',\n",
       " 'a ad ada a ada da',\n",
       " 'l li lil e lie ie',\n",
       " 'h he hel n len en',\n",
       " 'j je jes e sie ie',\n",
       " 'l lo lou e ise se',\n",
       " 'e et eth l hel el',\n",
       " 'l lu lul a ula la',\n",
       " 'm my myr e tle le',\n",
       " 'e ev eva a eva va',\n",
       " 'f fr fra s ces es',\n",
       " 'l le len a ena na',\n",
       " 'l lu luc y ucy cy',\n",
       " 'e ed edn a dna na',\n",
       " 'm ma mag e gie ie',\n",
       " 'p pe pea l arl rl',\n",
       " 'd da dai y isy sy',\n",
       " 'f fa fan e nie ie',\n",
       " 'j jo jos e ine ne',\n",
       " 'd do dor a ora ra',\n",
       " 'r ro ros a osa sa',\n",
       " 'k ka kat e ine ne',\n",
       " 'a ag agn s nes es',\n",
       " 'm ma mar e rie ie',\n",
       " 'n no nor a ora ra',\n",
       " 'm ma may y may ay',\n",
       " 'm ma mam e mie ie',\n",
       " 'b bl bla e che he',\n",
       " 's st ste a lla la',\n",
       " 'e el ell n len en',\n",
       " 'n na nan y ncy cy',\n",
       " 'e ef eff e fie ie',\n",
       " 's sa sal e lie ie',\n",
       " 'n ne net e tie ie',\n",
       " 'd de del a lla la',\n",
       " 'l li liz e zie ie',\n",
       " 'f fl flo a ora ra',\n",
       " 's su sus e sie ie',\n",
       " 'm ma mau d aud ud',\n",
       " 'm ma mae e mae ae',\n",
       " 'e et ett a tta ta',\n",
       " 'h ha har t iet et',\n",
       " 's sa sad e die ie',\n",
       " 'c ca car e ine ne',\n",
       " 'k ka kat e tie ie',\n",
       " 'l ly lyd a dia ia',\n",
       " 'e el els e sie ie',\n",
       " 'k ka kat e ate te',\n",
       " 's su sus n san an',\n",
       " 'm mo mol e lie ie',\n",
       " 'a al alm a lma ma',\n",
       " 'a ad add e die ie',\n",
       " 'g ge geo a gia ia',\n",
       " 'e el eli a iza za',\n",
       " 'l lu lul u ulu lu',\n",
       " 'n na nan e nie ie',\n",
       " 'l lo lot e tie ie',\n",
       " 'a am ama a nda da',\n",
       " 'b be bel e lle le',\n",
       " 'c ch cha e tte te',\n",
       " 'r re reb a cca ca',\n",
       " 'r ru rut h uth th',\n",
       " 'v vi vio a ola la',\n",
       " 'o ol oli e ive ve',\n",
       " 'a am ame a lia ia',\n",
       " 'h ha han h nah ah',\n",
       " 'j ja jan e ane ne',\n",
       " 'v vi vir a nia ia',\n",
       " 'e em emi y ily ly',\n",
       " 'm ma mat a lda da',\n",
       " 'i ir ire e ene ne',\n",
       " 'k ka kat n ryn yn',\n",
       " 'e es est r her er',\n",
       " 'w wi wil e lie ie',\n",
       " 'h he hen a tta ta',\n",
       " 'o ol oll e lie ie',\n",
       " 'a am amy y amy my',\n",
       " 'r ra rac l hel el',\n",
       " 's sa sar a ara ra',\n",
       " 'e es est a lla la',\n",
       " 't th the a esa sa',\n",
       " 'a au aug a sta ta',\n",
       " 'o or ora a ora ra',\n",
       " 'p pa pau e ine ne',\n",
       " 'j jo jos e sie ie',\n",
       " 'l lo lol a ola la',\n",
       " 's so sop a hia ia',\n",
       " 'l le leo a ona na',\n",
       " 'a an ann e nne ne',\n",
       " 'm mi mil d red ed',\n",
       " 'a an ann n ann nn',\n",
       " 'b be beu h lah ah',\n",
       " 'c ca cal e lie ie',\n",
       " 'l lo lou u lou ou',\n",
       " 'd de del a lia ia',\n",
       " 'e el ele r nor or',\n",
       " 'b ba bar a ara ra',\n",
       " 'i iv iva a iva va',\n",
       " 'l lo lou a isa sa',\n",
       " 'm ma mar a ria ia',\n",
       " 'm ma may e yme me',\n",
       " 'e ev eve n lyn yn',\n",
       " 'e es est e lle le',\n",
       " 'n ni nin a ina na',\n",
       " 'b be bet y tty ty',\n",
       " 'm ma mar n ion on',\n",
       " 'b be bet e tie ie',\n",
       " 'd do dor y thy hy',\n",
       " 'l lu lue a lla la',\n",
       " 'i in ine z nez ez',\n",
       " 'l le lel a ela la',\n",
       " 'r ro ros e sie ie',\n",
       " 'a al all e lie ie',\n",
       " 'm mi mil e lie ie',\n",
       " 'j ja jan e nie ie',\n",
       " 'c co cor a lia ia',\n",
       " 'v vi vic a ria ia',\n",
       " 'r ru rub y uby by',\n",
       " 'w wi win d red ed',\n",
       " 'a al alt a lta ta',\n",
       " 'c ce cel a lia ia',\n",
       " 'c ch chr e ine ne',\n",
       " 'b be bea e ice ce',\n",
       " 'b bi bir e die ie',\n",
       " 'h ha har t ett tt',\n",
       " 'm ma mab e ble le',\n",
       " 'm my myr a yra ra',\n",
       " 's so sop e hie ie',\n",
       " 't ti til e lie ie',\n",
       " 'i is isa l bel el',\n",
       " 's sy syl a via ia',\n",
       " 'c ca car n lyn yn',\n",
       " 'i is isa e lle le',\n",
       " 'l le lei a ila la',\n",
       " 's sa sal y lly ly',\n",
       " 'i in ina a ina na',\n",
       " 'e es ess e sie ie',\n",
       " 'b be ber e tie ie',\n",
       " 'n ne nel l ell ll',\n",
       " 'a al alb a rta ta',\n",
       " 'k ka kat e ine ne',\n",
       " 'l lo lor a ora ra',\n",
       " 'r re ren a ena na',\n",
       " 'm mi min a ina na',\n",
       " 'r rh rho a oda da',\n",
       " 'm ma mat a lda da',\n",
       " 'a ab abb e bie ie',\n",
       " 'e eu eul a ula la',\n",
       " 'd do dol e lie ie',\n",
       " 'h he het e tie ie',\n",
       " 'e eu eun e ice ce',\n",
       " 'f fa fan y nny ny',\n",
       " 'o ol ola a ola la',\n",
       " 'l le len a ora ra',\n",
       " 'a ad ade e ide de',\n",
       " 'c ch chr a ina na',\n",
       " 'l le lel a lia ia',\n",
       " 'n ne nel e lle le',\n",
       " 's su sue e sue ue',\n",
       " 'j jo joh a nna na',\n",
       " 'l li lil y lly ly',\n",
       " 'l lu luc a nda da',\n",
       " 'm mi min a rva va',\n",
       " 'l le let e tie ie',\n",
       " 'r ro rox e xie ie',\n",
       " 'c cy cyn a hia ia',\n",
       " 'h he hel a ena na',\n",
       " 'h hi hil a lda da',\n",
       " 'h hu hul a lda da',\n",
       " 'b be ber e ice ce',\n",
       " 'g ge gen e eve ve',\n",
       " 'j je jea n ean an',\n",
       " 'c co cor a lia ia',\n",
       " 'm ma mar n ian an',\n",
       " 'f fr fra s cis is',\n",
       " 'j je jea e tte te',\n",
       " 'a ad ade e ine ne',\n",
       " 'g gu gus e sie ie',\n",
       " 'l le lea h eah ah',\n",
       " 'l lo loi s ois is',\n",
       " 'l lu lur a ura ra',\n",
       " 'm mi mit e tie ie',\n",
       " 'h ha hal e lie ie',\n",
       " 'i is isa a lla la',\n",
       " 'o ol olg a lga ga',\n",
       " 'p ph pho e ebe be',\n",
       " 't te ter a esa sa',\n",
       " 'h he hes r ter er',\n",
       " 'l li lid a ida da',\n",
       " 'l li lin a ina na',\n",
       " 'w wi win e nie ie',\n",
       " 'c cl cla a dia ia',\n",
       " 'm ma mar e ite te',\n",
       " 'v ve ver a era ra',\n",
       " 'c ce cec a lia ia',\n",
       " 'b be bes s ess ss',\n",
       " 'e em emi e lie ie',\n",
       " 'j jo joh n ohn hn',\n",
       " 'r ro ros a tta ta',\n",
       " 'v ve ver a rna na',\n",
       " 'm my myr e tie ie',\n",
       " 'c ce cec a lia ia',\n",
       " 'e el elv a lva va',\n",
       " 'o ol oli a via ia',\n",
       " 'o op oph a lia ia',\n",
       " 'g ge geo e gie ie',\n",
       " 'e el eln a ora ra',\n",
       " 'v vi vio t let et',\n",
       " 'a ad ade e ele le',\n",
       " 'l li lil y ily ly',\n",
       " 'l li lin e nie ie',\n",
       " 'l lo lor a tta ta',\n",
       " 'm ma mad e dge ge',\n",
       " 'p po pol y lly ly',\n",
       " 'v vi vir e gie ie',\n",
       " 'e eu eug a nia ia',\n",
       " 'l lu luc e ile le',\n",
       " 'l lu luc e lle le',\n",
       " 'm ma mab e lle le',\n",
       " 'r ro ros e lie ie',\n",
       " 'k ki kit e tie ie',\n",
       " 'm me met a eta ta',\n",
       " 'a an ang e gie ie',\n",
       " 'd de des e sie ie',\n",
       " 'g ge geo a ana na',\n",
       " 'l li lil a ila la',\n",
       " 'r re reg a ina na',\n",
       " 's se sel a lma ma',\n",
       " 'w wi wil a ina na',\n",
       " 'b br bri t get et',\n",
       " 'l li lil a lla la',\n",
       " 'm ma mal a nda da',\n",
       " 'v vi vin a ina na',\n",
       " 'f fr fre a eda da',\n",
       " 'g ge ger e tie ie',\n",
       " 'j je jea e tte te',\n",
       " 'l lo lou a lla la',\n",
       " 'm ma man y ndy dy',\n",
       " 'r ro rob a rta ta',\n",
       " 'c ca cas e sie ie',\n",
       " 'c co cor e nne ne',\n",
       " 'i iv ivy y ivy vy',\n",
       " 'm me mel a ssa sa',\n",
       " 'l ly lyd a yda da',\n",
       " 'n na nao i omi mi',\n",
       " 'n no nor a rma ma',\n",
       " 'b be bel l ell ll',\n",
       " 'm ma mar e gie ie',\n",
       " 'n no non a ona na',\n",
       " 'z ze zel a lla la',\n",
       " 'd do dov e vie ie',\n",
       " 'e el elv a ira ra',\n",
       " 'e er erm a rma ma',\n",
       " 'i ir irm a rma ma',\n",
       " 'l le leo a ota ta',\n",
       " 'w wi wil m iam am',\n",
       " 'a ar art e tie ie',\n",
       " 'b bl bla h nch ch',\n",
       " 'c ch cha y ity ty',\n",
       " 'l lo lor a ena na',\n",
       " 'l lu luc a tia ia',\n",
       " 'o or orp a pha ha',\n",
       " 'a al alv a ina na',\n",
       " 'a an ann e tte te',\n",
       " 'c ca cat e ine ne',\n",
       " 'e el elm a lma ma',\n",
       " 'g ge gen a eva va',\n",
       " 'j ja jan t net et',\n",
       " 'l le lee e lee ee',\n",
       " 'l le leo a ora ra',\n",
       " 'l lo lon a ona na',\n",
       " 'm mi mir m iam am',\n",
       " 'z zo zor a ora ra',\n",
       " 'l li lin a nda da',\n",
       " 'o oc oct a via ia',\n",
       " 's su sud e die ie',\n",
       " 'z zu zul a ula la',\n",
       " 'a ad ade a lla la',\n",
       " 'a al alp a pha ha',\n",
       " 'f fr fri a eda da',\n",
       " 'g ge geo e rge ge',\n",
       " 'j jo joa a nna na',\n",
       " 'l le leo a ora ra',\n",
       " 'p pr pri a lla la',\n",
       " 't te ten e nie ie',\n",
       " 'a an ang e ine ne',\n",
       " 'd do doc a cia ia',\n",
       " 'e et ett e tie ie',\n",
       " 'f fl flo e sie ie',\n",
       " 'h ha han a nna na',\n",
       " 'l le let a tha ha',\n",
       " 'm mi min a nta ta',\n",
       " 'r re ret a tta ta',\n",
       " 'r ro ros a lla la',\n",
       " 'a ad ada h dah ah',\n",
       " 'b be ber a rta ta',\n",
       " 'e el eli h eth th',\n",
       " 'e el eli e ise se',\n",
       " 'g go gol e die ie',\n",
       " 'l le leo a ola la',\n",
       " 'm ma mar t ret et',\n",
       " 'a ad ada e ine ne',\n",
       " 'f fl flo y loy oy',\n",
       " 'i id ide a lla la',\n",
       " 'j ju jua a ita ta',\n",
       " 'l le len a nna na',\n",
       " 'l lu luc e cie ie',\n",
       " 'm mi mis i uri ri',\n",
       " 'n no nol a ola la',\n",
       " 'z zo zoe e zoe oe',\n",
       " 'e ed eda a eda da',\n",
       " 'i is isa l ell ll',\n",
       " 'j ja jam s mes es',\n",
       " 'j ju jul e lie ie',\n",
       " 'l le let a tia ia',\n",
       " 'm ma mad e ine ne',\n",
       " 'm ma mal a ssa sa',\n",
       " 'm ma mar h iah ah',\n",
       " 'p pa pat e tie ie',\n",
       " 'v vi viv n ian an',\n",
       " 'a al alm a eda da',\n",
       " 'a au aur a lia ia',\n",
       " 'c cl cla e ire re',\n",
       " 'd do dol y lly ly',\n",
       " 'h ha haz l zel el',\n",
       " 'j ja jan e nie ie',\n",
       " 'k ka kat n een en',\n",
       " 'k ka kat e ine ne',\n",
       " 'l la lav a nia ia',\n",
       " 'm ma mar a tta ta',\n",
       " 'm me mel a ina na',\n",
       " 'o on ona a ona na',\n",
       " 'p pi pin e kie ie',\n",
       " 's sa sam a tha ha',\n",
       " 's su sus a nna na',\n",
       " 'c ch chl e loe oe',\n",
       " 'd do don e nie ie',\n",
       " 'e el els a lsa sa',\n",
       " 'g gl gla s dys ys',\n",
       " 'm ma mat e tie ie',\n",
       " 'p pe pea e rle le',\n",
       " 'v ve ves a sta ta',\n",
       " 'v vi vin e nie ie',\n",
       " 'a an ant e tte te',\n",
       " 'c cl cle e ine ne',\n",
       " 'e ed edy e the he',\n",
       " 'h ha har e tte te',\n",
       " 'l li lib e bie ie',\n",
       " 'l li lil n ian an',\n",
       " 'l lu lue e lue ue',\n",
       " 'l lu lut e tie ie',\n",
       " 'm ma mag a ena na',\n",
       " 'm me med a eda da',\n",
       " 'r ri rit a ita ta',\n",
       " 't te ten a ena na',\n",
       " 'z ze zel a lma ma',\n",
       " 'a ad ade a lia ia',\n",
       " 'a an ann a tta ta',\n",
       " 'a an ant a nia ia',\n",
       " 'd do don a ona na',\n",
       " 'e el eli h eth th',\n",
       " 'g ge geo a nna na',\n",
       " 'g gr gra e cie ie',\n",
       " 'i io ion a ona na',\n",
       " 'l le les e sie ie',\n",
       " 'l le let a eta ta',\n",
       " 'l li liz a iza za',\n",
       " 'm me mer e tie ie',\n",
       " 'm mo mol y lly ly',\n",
       " 'n ne nev a eva va',\n",
       " 'o om oma a oma ma',\n",
       " 'a al ali a ida da',\n",
       " 'a al alv a lva va',\n",
       " 'c ce cec e ile le',\n",
       " 'c cl cle o leo eo',\n",
       " 'd do don a nna na',\n",
       " 'e el ell e lie ie',\n",
       " 'e er ern e ine ne',\n",
       " 'e ev evi e vie ie',\n",
       " 'f fr fra e kie ie',\n",
       " 'h he hel e ene ne',\n",
       " 'm mi min a nna na',\n",
       " 'm my myr a rta ta',\n",
       " 'p pr pru e nce ce',\n",
       " 'q qu que n een en',\n",
       " 'r ri ril a lla la',\n",
       " 's sa sav h nah ah',\n",
       " 't te tes e sie ie',\n",
       " 't ti tin a ina na',\n",
       " 'a ag aga a tha ha',\n",
       " 'a am ame a ica ca',\n",
       " 'a an ani a ita ta',\n",
       " 'a ar arm a nta ta',\n",
       " 'd do dor a hea ea',\n",
       " 'i ir ira a ira ra',\n",
       " 'l lu luv a nia ia',\n",
       " 'm ma mar e rie ie',\n",
       " 'm ma may e lle le',\n",
       " 'm me mel e lie ie',\n",
       " 'n na nan n nan an',\n",
       " 'p pe pea e lie ie',\n",
       " 's si sid y ney ey',\n",
       " 'v ve vel a lma ma',\n",
       " 'c cl cla e are re',\n",
       " 'c co con e nce ce',\n",
       " 'd di dix e xie ie',\n",
       " 'i il ila a ila la',\n",
       " 'i io iol a ola la',\n",
       " 'j ji jim e mie ie',\n",
       " 'l lo lou a nia ia',\n",
       " 'l lu luc a cia ia',\n",
       " 'l lu lud e die ie',\n",
       " 'l lu lun a una na',\n",
       " 'm me met a tta ta',\n",
       " 'p pa pat y tsy sy',\n",
       " 'p ph phe e ebe be',\n",
       " 's so sop a nia ia',\n",
       " 'a ad add a dda da',\n",
       " 'a av avi s vis is',\n",
       " 'b be bet y tsy sy',\n",
       " 'b bo bon e nie ie',\n",
       " 'c ce cec l cil il',\n",
       " 'c co cor e die ie',\n",
       " 'e em emm e ine ne',\n",
       " 'e et eth n lyn yn',\n",
       " 'h ho hor e nse se',\n",
       " 'j ju jun e une ne',\n",
       " 'l lo lou e uie ie',\n",
       " 'l lo lov e vie ie',\n",
       " 'm ma mar a lla la',\n",
       " 'm me mel a nda da',\n",
       " 'm mo mon a ona na',\n",
       " 'o od ode a ssa sa',\n",
       " 'v ve ver a ica ca',\n",
       " 'a ai aim e mee ee',\n",
       " 'a an ann l bel el',\n",
       " 'a av ava a ava va',\n",
       " 'b be bel a lla la',\n",
       " 'c ca car a ina na',\n",
       " 'c ca cat e ine ne',\n",
       " 'c ch chr a ena na',\n",
       " 'c cl cly e yde de',\n",
       " 'd de den a ena na',\n",
       " 'd do dol s res es',\n",
       " 'e el ele e ore re',\n",
       " 'e el elm a ira ra',\n",
       " 'f fa fay y fay ay',\n",
       " 'f fr fra k ank nk',\n",
       " 'j je jen y nny ny',\n",
       " 'k ki kiz e zie ie',\n",
       " 'l lo lon e nie ie',\n",
       " 'l lo lou a ula la',\n",
       " 'm ma mag e ene ne',\n",
       " 'm me met e tie ie',\n",
       " 'm mi min e tie ie',\n",
       " 'p pe peg y ggy gy',\n",
       " 'r re reb a eba ba',\n",
       " 's se ser a ena na',\n",
       " 'v vi vid a ida da',\n",
       " 'z za zad a ada da',\n",
       " 'a ab abi l ail il',\n",
       " 'c ce cel e ine ne',\n",
       " 'c ce cel a ina na',\n",
       " 'c cl cla e die ie',\n",
       " 'c cl cle e mie ie',\n",
       " 'c co con e nie ie',\n",
       " 'd da dai e sie ie',\n",
       " 'd de deb h rah ah',\n",
       " 'd de des a ssa sa',\n",
       " 'e ea eas r ter er',\n",
       " 'e ed edd e die ie',\n",
       " 'e em eme a lia ia',\n",
       " 'e em emm e mie ie',\n",
       " 'i im imo e ene ne',\n",
       " 'i in ind a dia ia',\n",
       " 'j je jea e nne ne',\n",
       " 'j jo joa n oan an',\n",
       " 'l le len e ore re',\n",
       " 'l li lid e die ie',\n",
       " 'l lo lot a tta ta',\n",
       " 'm ma mam e ame me',\n",
       " 'n ne nev a ada da',\n",
       " 'r ra rac l ael el',\n",
       " 's si sin a ina na',\n",
       " 'w wi wil a lla la',\n",
       " 'a al ali e ine ne',\n",
       " 'b be ber l ryl yl',\n",
       " 'c ch cha s les es',\n",
       " 'd da dai y sey ey',\n",
       " 'd do dor s cas as',\n",
       " 'e ed edm a nia ia',\n",
       " 'e ef eff a ffa fa',\n",
       " 'e el eld a ora ra',\n",
       " 'e el elo e ise se',\n",
       " 'e em emm r mer er',\n",
       " 'e er era a era ra',\n",
       " 'g ge gen a ena na',\n",
       " 'h he hen y nry ry',\n",
       " 'i ir iri s ris is',\n",
       " 'i iz izo a ora ra',\n",
       " 'l le len e nie ie',\n",
       " 'l li lis e sie ie',\n",
       " 'm ma mal e lie ie',\n",
       " 'm ma mal a ina na',\n",
       " 'm ma mat e lde de',\n",
       " 'm ma maz e zie ie',\n",
       " 'q qu que e nie ie',\n",
       " 'r ro rob t ert rt',\n",
       " 'r ro ros a ina na',\n",
       " 's sa sal e ome me',\n",
       " 't th the a ora ra',\n",
       " 't th the e ese se',\n",
       " 'v ve ven a ena na',\n",
       " 'w wa wan a nda da',\n",
       " 'w wi wil a lda da',\n",
       " 'a al alt a tha ha',\n",
       " 'a an ana a sia ia',\n",
       " 'b be bes e sse se',\n",
       " 'b bi bir d ird rd',\n",
       " 'b bi bir e tie ie',\n",
       " 'c cl cla a ssa sa',\n",
       " 'c cl cla e ude de',\n",
       " 'd de del h lah ah',\n",
       " 'd di dia a ana na',\n",
       " 'e em eme e lie ie',\n",
       " 'e er ern a rna na',\n",
       " 'f fe fer n ern rn',\n",
       " 'f fl flo a ida da',\n",
       " 'f fr fro a ona na',\n",
       " 'h hi hil a lma ma',\n",
       " 'j jo jos h eph ph',\n",
       " 'j ju jul t iet et',\n",
       " 'l le leo e nie ie',\n",
       " 'l lu lug a nia ia',\n",
       " 'm ma mam e mie ie',\n",
       " 'm ma man a nda da',\n",
       " 'm ma man a rva va',\n",
       " 'm ma man e nie ie',\n",
       " 'n ne nel a lla la',\n",
       " 'p pa pau a ina na',\n",
       " 'p ph phi a ena na',\n",
       " 'r ra rae e rae ae',\n",
       " 's se sel a ina na',\n",
       " 's se sen a ena na',\n",
       " 't th the a sia ia',\n",
       " 't to tom e mie ie',\n",
       " 'u un una a una na',\n",
       " 'v ve ver e nie ie',\n",
       " 'a ad ade a ela la',\n",
       " 'a al alt a hea ea',\n",
       " 'a am ama a lia ia',\n",
       " 'a am amb r ber er',\n",
       " 'a an ang a ina na',\n",
       " 'a an ann e lle le',\n",
       " 'a an ann r ner er',\n",
       " 'a ar ari e rie ie',\n",
       " 'c cl cla e ice ce',\n",
       " 'c co cor a rda da',\n",
       " 'c co cor e rie ie',\n",
       " 'd de del l ell ll',\n",
       " 'd de del r lar ar',\n",
       " 'd do don e nie ie',\n",
       " 'd do dor s ris is',\n",
       " 'e el eld a lda da',\n",
       " 'e el eli r nor or',\n",
       " 'e em eme e ine ne',\n",
       " 'e em emi a lia ia',\n",
       " 'e es est a sta ta',\n",
       " 'e es est l ell ll',\n",
       " 'e et eth a tha ha',\n",
       " 'f fr fre d red ed',\n",
       " 'h ho hop e ope pe',\n",
       " 'i in ind a ana na',\n",
       " 'i io ion e one ne',\n",
       " 'j je jet e tie ie',\n",
       " 'j jo joh e nie ie',\n",
       " 'j jo jos e ine ne',\n",
       " 'k ki kit y tty ty',\n",
       " 'l la lav a ina na',\n",
       " 'l le led a eda da',\n",
       " 'l le let a tta ta',\n",
       " 'm ma mah a ala la',\n",
       " 'm ma mar a cia ia',\n",
       " 'm ma mar e tte te',\n",
       " 'm ma mau e die ie',\n",
       " 'm ma may e aye ye',\n",
       " 'n no nor h rah ah',\n",
       " 'o od oda a oda da',\n",
       " 'p pa pat y tty ty',\n",
       " 'p pa pau a ula la',\n",
       " 'p pe per a lia ia',\n",
       " 'r ro ros a lia ia',\n",
       " 'r ro rox a nna na',\n",
       " 's su sul a ula la',\n",
       " 'v va vad a ada da',\n",
       " 'w wi win d red ed',\n",
       " 'a ad adl e ine ne',\n",
       " 'a al alm a ira ra',\n",
       " 'a al alv a ena na',\n",
       " 'a ar ari a ona na',\n",
       " 'b be bec y cky ky',\n",
       " 'b be ben e nie ie',\n",
       " 'b be ber e tte te',\n",
       " 'c ca cam e lle le',\n",
       " 'c co cor a dia ia',\n",
       " 'c co cor e ine ne',\n",
       " 'd di dic e cie ie',\n",
       " 'd do dov e ove ve',\n",
       " 'd dr dru a lla la',\n",
       " 'e el ele a ena na',\n",
       " 'e el ele a ora ra',\n",
       " 'e el elm a ina na',\n",
       " 'e et eth l hyl yl',\n",
       " 'e ev eva n lyn yn',\n",
       " 'e ev eve a ina na',\n",
       " 'f fa fay e aye ye',\n",
       " 'h hu hul h dah ah',\n",
       " 'i id ide l ell ll',\n",
       " 'i in ing a nga ga',\n",
       " 'i ir ire a ena na',\n",
       " 'j je jew l ell ll',\n",
       " 'k ka kat e tie ie',\n",
       " 'l la lav a nia ia',\n",
       " 'l le les e lie ie',\n",
       " 'l lo lov a ina na',\n",
       " 'l lu lul e lie ie',\n",
       " 'm ma mag a lia ia',\n",
       " 'm ma mar t ret et',\n",
       " 'm ma mar y ery ry',\n",
       " 'm me med a dia ia',\n",
       " 'm mi mil t ent nt',\n",
       " 'n ne nen a ena na',\n",
       " 'o oc oci e cie ie',\n",
       " 'o or ori a lla la',\n",
       " 'o os osi e sie ie',\n",
       " 'p pa pan y nsy sy',\n",
       " 'r ra ray y ray ay',\n",
       " 'r ro ros a sia ia',\n",
       " 'r ro row a ena na',\n",
       " 's sh shi y ley ey',\n",
       " 't ta tab a tha ha',\n",
       " 't th tho s mas as',\n",
       " 'v ve ver e die ie',\n",
       " 'w wa wal r ter er',\n",
       " 'z ze zet a tta ta',\n",
       " 'z zo zoa a zoa oa',\n",
       " 'z zo zon a ona na',\n",
       " 'a al alb a ina na',\n",
       " 'a al alb a ina na',\n",
       " 'a al aly e yce ce',\n",
       " 'a am ami e mie ie',\n",
       " 'a an ang a ela la',\n",
       " 'a an ann s nis is',\n",
       " 'c ca car l rol ol',\n",
       " 'c ca car a rra ra',\n",
       " 'c cl cla e nce ce',\n",
       " 'c cl cla a nda da',\n",
       " 'd de del a hia ia',\n",
       " 'd di dil e lie ie',\n",
       " 'd do dos e hie ie',\n",
       " 'd dr dru a lla la',\n",
       " 'e et etn a tna na',\n",
       " 'e eu eug e nie ie',\n",
       " 'e eu eul a lia ia',\n",
       " 'e ev eve e eve ve',\n",
       " 'f fe fel a cia ia',\n",
       " 'f fl flo e nce ce',\n",
       " 'f fr fro e nie ie',\n",
       " 'g ge ger e ine ne',\n",
       " 'g gi gin a ina na',\n",
       " 'g gl gle a nna na',\n",
       " 'g gr gra e yce ce',\n",
       " 'h he hed g wig ig',\n",
       " 'j je jes a ica ca',\n",
       " 'j jo jos e sie ie',\n",
       " 'k ka kat n ryn yn',\n",
       " 'k ka kat y aty ty',\n",
       " 'l le lea a lea ea',\n",
       " 'l le lea a nna na',\n",
       " 'l le lei a tha ha',\n",
       " 'l le leo e one ne',\n",
       " 'l li lid e die ie',\n",
       " 'l lo lom a oma ma',\n",
       " 'l lu lul r lar ar',\n",
       " 'm ma mag n len en',\n",
       " 'm ma may e mie ie',\n",
       " 'm mi min a via ia',\n",
       " 'm mu mur l iel el',\n",
       " 'n ne nep e pie ie',\n",
       " 'o ol oli e lie ie',\n",
       " 'o on oni e nie ie',\n",
       " 'o os osa a osa sa',\n",
       " 'o ot ote a lia ia',\n",
       " 'p pa par e lee ee',\n",
       " 'p pa pat e nce ce',\n",
       " 'r re rel a lla la',\n",
       " 'r ri ril e lie ie',\n",
       " 'r ro ros a nna na',\n",
       " 't th the o heo eo',\n",
       " 't ti til a lda da',\n",
       " 't ti tis e hie ie',\n",
       " 't tr tre a ssa sa',\n",
       " 'v vi viv a iva va',\n",
       " 'y ye yet a tta ta',\n",
       " 'z ze zen a ena na',\n",
       " 'z zo zol a ola la',\n",
       " 'a ab abb y bby by',\n",
       " 'a ai ail n een en',\n",
       " 'a al alb a lba ba',\n",
       " 'a al ald a lda da',\n",
       " 'a al all a lla la',\n",
       " 'a al alv a rta ta',\n",
       " 'a ar ara a ara ra',\n",
       " 'a ar ard a lia ia',\n",
       " 'a ar ard a lla la',\n",
       " 'a ar arr e rie ie',\n",
       " 'a ar arv a lla la',\n",
       " 'a au aug e ine ne',\n",
       " 'a au aur a ora ra',\n",
       " 'b ba bam a ama ma',\n",
       " 'b be ben a ena na',\n",
       " 'b by byr d yrd rd',\n",
       " 'c ca cal a lla la',\n",
       " 'c ca cam a lla la',\n",
       " 'c ca car y rey ey',\n",
       " 'c ca car a tta ta',\n",
       " 'c ce cel a tia ia',\n",
       " 'c ch che y rry ry',\n",
       " 'c ci cin a nda da',\n",
       " 'c cl cla e sie ie',\n",
       " 'c cl cla e ine ne',\n",
       " 'c cl cle e mie ie',\n",
       " 'c cl cli d ord rd',\n",
       " 'c cl cly a yda da',\n",
       " 'c cr cre a ola la',\n",
       " 'd de deb e bie ie',\n",
       " 'd de dee e dee ee',\n",
       " 'd di din h nah ah',\n",
       " 'd do dos a hia ia',\n",
       " 'e ed edn h nah ah',\n",
       " 'e ed edy h yth th',\n",
       " 'e el ele a ora ra',\n",
       " 'e el ele a cta ta',\n",
       " 'e eo eol a ola la',\n",
       " 'e er eri e rie ie',\n",
       " 'e eu eud a ora ra',\n",
       " 'e eu eup a mia ia',\n",
       " 'e ev eva a ena na',\n",
       " 'e ev eva e ine ne',\n",
       " 'f fa fai h ith th',\n",
       " 'f fi fid a lia ia',\n",
       " 'f fr fre e die ie',\n",
       " 'g go gol a lda da',\n",
       " 'h ha har y rry ry',\n",
       " 'h he hel a lma ma',\n",
       " 'h he her e ine ne',\n",
       " 'h he hes e sie ie',\n",
       " 'i iv iva h vah ah',\n",
       " 'j ja jan e tte te',\n",
       " 'j je jen e tte te',\n",
       " 'j jo joe a lla la',\n",
       " 'k ka kat e yne ne',\n",
       " 'l la lac y acy cy',\n",
       " 'l la lan e nie ie',\n",
       " 'l la lau a tta ta',\n",
       " 'l le lea a ana na',\n",
       " 'l le lea a tha ha',\n",
       " 'l le leo o leo eo',\n",
       " 'l li lil r ler er',\n",
       " 'l li lil s lis is',\n",
       " 'l lo lou a tta ta',\n",
       " 'm ma mad e die ie',\n",
       " 'm ma mai i mai ai',\n",
       " 'm ma mar a ina na',\n",
       " 'm ma mar n ann nn',\n",
       " 'm me mel a lva va',\n",
       " 'm me men a ena na',\n",
       " 'm me mer s des es',\n",
       " 'm me mer e rle le',\n",
       " 'm mi mim a ima ma',\n",
       " 'm mi min a nda da',\n",
       " 'm mo mon a ica ca',\n",
       " 'n ne nea e lie ie',\n",
       " 'n ne net a tta ta',\n",
       " 'n no nol a lia ia',\n",
       " 'n no non e nie ie',\n",
       " 'o od ode a lia ia',\n",
       " 'o ot ott e lie ie',\n",
       " 'p ph phy s lis is',\n",
       " 'r ro rob e bie ie',\n",
       " 's sa sab a ina na',\n",
       " 's sa sad a ada da',\n",
       " 's sa sam e mie ie',\n",
       " 's su suz e nne ne',\n",
       " 's sy syb a lla la',\n",
       " 't th the a hea ea',\n",
       " 't tr tre e sie ie',\n",
       " 'v va val e lie ie',\n",
       " 'v ve ven e nie ie',\n",
       " 'v vi vin y ney ey',\n",
       " 'w wi wil e ine ne',\n",
       " 'w wi win a ona na',\n",
       " 'z ze zel a lda da',\n",
       " 'z zi zil a pha ha',\n",
       " 'a ad ade e lle le',\n",
       " 'a ad adi a ina na',\n",
       " 'a ad adr e nne ne',\n",
       " 'a al alb e ine ne',\n",
       " 'a al aly s lys ys',\n",
       " 'a an ana a ana na',\n",
       " 'a ar ara a nta ta',\n",
       " 'a ar art r hur ur',\n",
       " 'b bi bir a tha ha',\n",
       " 'b bu bul h lah ah',\n",
       " 'c ca cad e die ie',\n",
       " 'c ce cel e lie ie',\n",
       " 'c ch cha a tta ta',\n",
       " 'c cl cla r air ir',\n",
       " 'c co con n ion on',\n",
       " 'c co cor a lla la',\n",
       " 'c co cor e ine ne',\n",
       " 'd de del a ila la',\n",
       " 'd de del e ine ne',\n",
       " 'd do dos a sha ha',\n",
       " 'e ed edg r gar ar',\n",
       " 'e el ela e ine ne',\n",
       " 'e el eli a isa sa',\n",
       " 'e el ell r lar ar',\n",
       " 'e el elm e ire re',\n",
       " 'e el elv a ina na',\n",
       " 'e en ena a ena na',\n",
       " 'e es est e tie ie',\n",
       " 'e et ett r ter er',\n",
       " 'f fr fro e nie ie',\n",
       " 'g ge gen e nie ie',\n",
       " 'g ge geo a ina na',\n",
       " 'g gl gle n enn nn',\n",
       " 'g gr gra a cia ia',\n",
       " 'g gu gua e upe pe',\n",
       " 'g gw gwe n lyn yn',\n",
       " 'h ha has e sie ie',\n",
       " 'h ho hon a ora ra',\n",
       " 'i ic icy y icy cy',\n",
       " 'i is isa a isa sa',\n",
       " 'i is isa a ora ra',\n",
       " 'j je jes e sse se',\n",
       " 'j je jew l wel el',\n",
       " 'j jo joe e joe oe',\n",
       " 'j jo joh h nah ah',\n",
       " 'j ju jua a ana na',\n",
       " 'j ju jud h ith th',\n",
       " 'j ju jud y udy dy',\n",
       " 'j ju jun e nie ie',\n",
       " 'l la lav a nia ia',\n",
       " 'l le lel a lla la',\n",
       " 'l le lem a mma ma',\n",
       " 'l le let y tty ty',\n",
       " 'l li lin a nna na',\n",
       " 'l li lit e tie ie',\n",
       " 'l lo lol e lie ie',\n",
       " 'l lo lor e ene ne',\n",
       " 'l lo lou s uis is',\n",
       " 'l lo lov e ove ve',\n",
       " 'l lo lov a isa sa',\n",
       " 'l lu luc a ina na',\n",
       " 'l ly lyn n ynn nn',\n",
       " 'm ma mad a ora ra',\n",
       " 'm ma mah a lia ia',\n",
       " 'm ma man a via ia',\n",
       " 'm ma man a ela la',\n",
       " 'm ma mar t ett tt',\n",
       " 'm ma mar a tta ta',\n",
       " 'm ma mar a ita ta',\n",
       " 'm ma mar a lla la',\n",
       " 'm mi mig n non on',\n",
       " 'm mo moz a lla la',\n",
       " 'n na nat e lie ie',\n",
       " 'n ne nel a lia ia',\n",
       " 'n no nol e lie ie',\n",
       " 'o om omi e mie ie',\n",
       " 'o op opa l pal al',\n",
       " 'o os oss e sie ie',\n",
       " 'o ot ott e tie ie',\n",
       " 'o ot ott a lia ia',\n",
       " 'p pa par a nia ia',\n",
       " 'p pe pen e ope pe',\n",
       " 'p pi pin y key ey',\n",
       " 'p po pol e lie ie',\n",
       " 'r re ren e nie ie',\n",
       " 'r re ret a eta ta',\n",
       " 'r ro roe a ena na',\n",
       " 'r ro ros e lee ee',\n",
       " 'r ro ros a nna na',\n",
       " 'r ru rut e hie ie',\n",
       " 's sa sab a bra ra',\n",
       " 's sa san e nie ie',\n",
       " 's se sel a ena na',\n",
       " 's si sib l byl yl',\n",
       " 't te tel a lla la',\n",
       " 't te tem e pie ie',\n",
       " 't te ten e see ee',\n",
       " 't te ter a ssa sa',\n",
       " 't te tex s xas as',\n",
       " 't th the a eda da',\n",
       " 't th the a lma ma',\n",
       " 't th thu a rsa sa',\n",
       " 'u ul ula a ula la',\n",
       " 'v va van e nie ie',\n",
       " 'v ve ver a ona na',\n",
       " 'v ve ver e tie ie',\n",
       " 'w wi wil a lma ma',\n",
       " 'e ed edw d ard rd',\n",
       " 'a al alb t ert rt',\n",
       " 's sa sam l uel el',\n",
       " 'd da dav d vid id',\n",
       " 'c ch cha e lie ie',\n",
       " 'r ri ric d ard rd',\n",
       " 'a an and w rew ew',\n",
       " 'd da dan l iel el',\n",
       " 'e er ern t est st',\n",
       " 'w wi wil l ill ll',\n",
       " 'o os osc r car ar',\n",
       " 'l le lew s wis is',\n",
       " 'p pe pet r ter er',\n",
       " 'b be ben n min in',\n",
       " 'f fr fre k ick ck',\n",
       " 'a al alf d red ed',\n",
       " 's sa sam m sam am',\n",
       " 'r ro roy y roy oy',\n",
       " 'h he her t ert rt',\n",
       " 'j ja jac b cob ob',\n",
       " 't to tom m tom om',\n",
       " 'e el elm r mer er',\n",
       " 'c ca car l arl rl',\n",
       " 'h ho how d ard rd',\n",
       " 'm ma mar n tin in',\n",
       " 'm mi mic l ael el',\n",
       " 'b be ber t ert rt',\n",
       " 'h he her n man an',\n",
       " 'j ji jim m jim im',\n",
       " 'h ha har y vey ey',\n",
       " 'e ea ear l arl rl',\n",
       " 'e eu eug e ene ne',\n",
       " 'r ra ral h lph ph',\n",
       " 'e ed ed d ed ed',\n",
       " 'e ed edw n win in',\n",
       " 'b be ben n ben en',\n",
       " 'c ch cha y ley ey',\n",
       " 'p pa pau l aul ul',\n",
       " 'i is isa c aac ac',\n",
       " 'o ot ott o tto to',\n",
       " 'l lu lut r her er',\n",
       " 'l la law e nce ce',\n",
       " 'p pa pat k ick ck',\n",
       " 'g gu guy y guy uy',\n",
       " 'o ol oli r ver er',\n",
       " 't th the e ore re',\n",
       " 'h hu hug h ugh gh',\n",
       " 'a al ale r der er',\n",
       " 'a au aug t ust st',\n",
       " 'f fl flo d oyd yd',\n",
       " 'h ho hom r mer er',\n",
       " 'j ja jac k ack ck',\n",
       " 'l le leo d ard rd',\n",
       " 'h ho hor e ace ce',\n",
       " 'p ph phi p lip ip',\n",
       " 'a al all n len en',\n",
       " 'a ar arc e hie ie',\n",
       " 's st ste n hen en',\n",
       " ...]"
      ]
     },
     "execution_count": 16,
     "metadata": {},
     "output_type": "execute_result"
    }
   ],
   "source": [
    "expanded"
   ]
  },
  {
   "cell_type": "code",
   "execution_count": 17,
   "metadata": {},
   "outputs": [],
   "source": [
    "data[\"expanded\"]=pd.DataFrame(expanded)"
   ]
  },
  {
   "cell_type": "code",
   "execution_count": 18,
   "metadata": {},
   "outputs": [
    {
     "data": {
      "text/html": [
       "<div>\n",
       "<style scoped>\n",
       "    .dataframe tbody tr th:only-of-type {\n",
       "        vertical-align: middle;\n",
       "    }\n",
       "\n",
       "    .dataframe tbody tr th {\n",
       "        vertical-align: top;\n",
       "    }\n",
       "\n",
       "    .dataframe thead th {\n",
       "        text-align: right;\n",
       "    }\n",
       "</style>\n",
       "<table border=\"1\" class=\"dataframe\">\n",
       "  <thead>\n",
       "    <tr style=\"text-align: right;\">\n",
       "      <th></th>\n",
       "      <th>name</th>\n",
       "      <th>gender</th>\n",
       "      <th>expanded</th>\n",
       "    </tr>\n",
       "  </thead>\n",
       "  <tbody>\n",
       "    <tr>\n",
       "      <td>0</td>\n",
       "      <td>mary</td>\n",
       "      <td>F</td>\n",
       "      <td>m ma mar y ary ry</td>\n",
       "    </tr>\n",
       "    <tr>\n",
       "      <td>1</td>\n",
       "      <td>anna</td>\n",
       "      <td>F</td>\n",
       "      <td>a an ann a nna na</td>\n",
       "    </tr>\n",
       "    <tr>\n",
       "      <td>2</td>\n",
       "      <td>emma</td>\n",
       "      <td>F</td>\n",
       "      <td>e em emm a mma ma</td>\n",
       "    </tr>\n",
       "    <tr>\n",
       "      <td>3</td>\n",
       "      <td>elizabeth</td>\n",
       "      <td>F</td>\n",
       "      <td>e el eli h eth th</td>\n",
       "    </tr>\n",
       "    <tr>\n",
       "      <td>4</td>\n",
       "      <td>minnie</td>\n",
       "      <td>F</td>\n",
       "      <td>m mi min e nie ie</td>\n",
       "    </tr>\n",
       "  </tbody>\n",
       "</table>\n",
       "</div>"
      ],
      "text/plain": [
       "        name gender           expanded\n",
       "0       mary      F  m ma mar y ary ry\n",
       "1       anna      F  a an ann a nna na\n",
       "2       emma      F  e em emm a mma ma\n",
       "3  elizabeth      F  e el eli h eth th\n",
       "4     minnie      F  m mi min e nie ie"
      ]
     },
     "execution_count": 18,
     "metadata": {},
     "output_type": "execute_result"
    }
   ],
   "source": [
    "data.head()"
   ]
  },
  {
   "cell_type": "code",
   "execution_count": 19,
   "metadata": {},
   "outputs": [
    {
     "name": "stdout",
     "output_type": "stream",
     "text": [
      "<class 'pandas.core.frame.DataFrame'>\n",
      "RangeIndex: 60000 entries, 0 to 59999\n",
      "Data columns (total 3 columns):\n",
      "name        60000 non-null object\n",
      "gender      60000 non-null object\n",
      "expanded    60000 non-null object\n",
      "dtypes: object(3)\n",
      "memory usage: 1.4+ MB\n"
     ]
    }
   ],
   "source": [
    "data.info()"
   ]
  },
  {
   "cell_type": "code",
   "execution_count": 20,
   "metadata": {},
   "outputs": [],
   "source": [
    "#Sepetrating male and female dtaset\n",
    "F_data=data[data[\"gender\"]==\"F\"]\n",
    "M_data=data[data[\"gender\"]==\"M\"]"
   ]
  },
  {
   "cell_type": "code",
   "execution_count": 21,
   "metadata": {},
   "outputs": [],
   "source": [
    "#sampeling for balancing the data\n",
    "sample1=F_data.sample(M_count,random_state=10)\n",
    "sample2=M_data.sample(F_count,random_state=10,replace=True)"
   ]
  },
  {
   "cell_type": "code",
   "execution_count": 22,
   "metadata": {},
   "outputs": [
    {
     "data": {
      "text/plain": [
       "(             name gender           expanded\n",
       " 32878      nkechi      F  n nk nke i chi hi\n",
       " 13890      aleece      F  a al ale e ece ce\n",
       " 39994      lakeva      F  l la lak a eva va\n",
       " 20973  donnamaria      F  d do don a ria ia\n",
       " 33936     marieke      F  m ma mar e eke ke,\n",
       "           name gender           expanded\n",
       " 52170  prateek      M  p pr pra k eek ek\n",
       " 16641    welty      M  w we wel y lty ty\n",
       " 52225  eliecer      M  e el eli r cer er\n",
       " 16639   walley      M  w wa wal y ley ey\n",
       " 24363     pepi      M  p pe pep i epi pi)"
      ]
     },
     "execution_count": 22,
     "metadata": {},
     "output_type": "execute_result"
    }
   ],
   "source": [
    "sample1.head(),sample2.head()"
   ]
  },
  {
   "cell_type": "code",
   "execution_count": 23,
   "metadata": {},
   "outputs": [
    {
     "data": {
      "text/plain": [
       "F    20555\n",
       "Name: gender, dtype: int64"
      ]
     },
     "execution_count": 23,
     "metadata": {},
     "output_type": "execute_result"
    }
   ],
   "source": [
    "sample1[\"gender\"].value_counts()"
   ]
  },
  {
   "cell_type": "code",
   "execution_count": 24,
   "metadata": {},
   "outputs": [
    {
     "data": {
      "text/plain": [
       "M    39445\n",
       "Name: gender, dtype: int64"
      ]
     },
     "execution_count": 24,
     "metadata": {},
     "output_type": "execute_result"
    }
   ],
   "source": [
    "sample2[\"gender\"].value_counts()"
   ]
  },
  {
   "cell_type": "code",
   "execution_count": 25,
   "metadata": {},
   "outputs": [],
   "source": [
    "balanced_data1=pd.concat((M_data,sample1),axis=0)"
   ]
  },
  {
   "cell_type": "code",
   "execution_count": 26,
   "metadata": {},
   "outputs": [],
   "source": [
    "#Converting female to 1 and male to 0\n",
    "balanced_data1[\"gender\"]=np.where(balanced_data1[\"gender\"]==\"F\",1,0)"
   ]
  },
  {
   "cell_type": "code",
   "execution_count": 27,
   "metadata": {},
   "outputs": [
    {
     "data": {
      "text/plain": [
       "<bound method NDFrame.head of           name  gender           expanded\n",
       "942     edward       0  e ed edw d ard rd\n",
       "943     albert       0  a al alb t ert rt\n",
       "944     samuel       0  s sa sam l uel el\n",
       "945      david       0  d da dav d vid id\n",
       "946    charlie       0  c ch cha e lie ie\n",
       "...        ...     ...                ...\n",
       "12550  dorella       1  d do dor a lla la\n",
       "6608    euline       1  e eu eul e ine ne\n",
       "17330    ivone       1  i iv ivo e one ne\n",
       "57516  elexius       1  e el ele s ius us\n",
       "37537  kanetra       1  k ka kan a tra ra\n",
       "\n",
       "[41110 rows x 3 columns]>"
      ]
     },
     "execution_count": 27,
     "metadata": {},
     "output_type": "execute_result"
    }
   ],
   "source": [
    "balanced_data1.head"
   ]
  },
  {
   "cell_type": "code",
   "execution_count": 28,
   "metadata": {},
   "outputs": [],
   "source": [
    "#Creating an Object of TfidfVectorizer\n",
    "tfidf= TfidfVectorizer()"
   ]
  },
  {
   "cell_type": "code",
   "execution_count": 29,
   "metadata": {},
   "outputs": [],
   "source": [
    "#transforming our expanded data to numeric using TfidfVectorizer()\n",
    "x_tf = tfidf.fit_transform(balanced_data1[\"expanded\"]).toarray()"
   ]
  },
  {
   "cell_type": "code",
   "execution_count": 30,
   "metadata": {},
   "outputs": [],
   "source": [
    "\n",
    "from sklearn.model_selection import train_test_split"
   ]
  },
  {
   "cell_type": "code",
   "execution_count": 31,
   "metadata": {},
   "outputs": [],
   "source": [
    "#Splitting the data\n",
    "x_train,x_test,y_train,y_test=train_test_split(x_tf,balanced_data1[\"gender\"],test_size=.20)"
   ]
  },
  {
   "cell_type": "code",
   "execution_count": 32,
   "metadata": {},
   "outputs": [],
   "source": [
    "mn=MultinomialNB()"
   ]
  },
  {
   "cell_type": "code",
   "execution_count": 33,
   "metadata": {},
   "outputs": [
    {
     "data": {
      "text/plain": [
       "MultinomialNB(alpha=1.0, class_prior=None, fit_prior=True)"
      ]
     },
     "execution_count": 33,
     "metadata": {},
     "output_type": "execute_result"
    }
   ],
   "source": [
    "#fitting our data into MultinominalNB\n",
    "mn.fit(x_train,y_train)"
   ]
  },
  {
   "cell_type": "code",
   "execution_count": 53,
   "metadata": {},
   "outputs": [],
   "source": [
    "#Prediction\n",
    "train_predict=mn.predict(x_train)\n",
    "predict=mn.predict(x_test)\n"
   ]
  },
  {
   "cell_type": "code",
   "execution_count": 35,
   "metadata": {},
   "outputs": [],
   "source": [
    "from sklearn.metrics import accuracy_score,classification_report"
   ]
  },
  {
   "cell_type": "code",
   "execution_count": 55,
   "metadata": {},
   "outputs": [
    {
     "name": "stdout",
     "output_type": "stream",
     "text": [
      "Accuracy score: 0.8638105083921187\n",
      "Accuracy score: 0.840306494770129\n"
     ]
    }
   ],
   "source": [
    "# Computing Accuracy\n",
    "print(\"Accuracy score:\",accuracy_score(y_train,train_predict))\n",
    "print(\"Accuracy score:\",accuracy_score(y_test,predict))\n"
   ]
  },
  {
   "cell_type": "code",
   "execution_count": 56,
   "metadata": {},
   "outputs": [
    {
     "name": "stdout",
     "output_type": "stream",
     "text": [
      "classification report:\n",
      "               precision    recall  f1-score   support\n",
      "\n",
      "           0       0.87      0.86      0.86     16426\n",
      "           1       0.86      0.87      0.86     16462\n",
      "\n",
      "    accuracy                           0.86     32888\n",
      "   macro avg       0.86      0.86      0.86     32888\n",
      "weighted avg       0.86      0.86      0.86     32888\n",
      "\n",
      "classification report:\n",
      "               precision    recall  f1-score   support\n",
      "\n",
      "           0       0.85      0.83      0.84      4129\n",
      "           1       0.83      0.85      0.84      4093\n",
      "\n",
      "    accuracy                           0.84      8222\n",
      "   macro avg       0.84      0.84      0.84      8222\n",
      "weighted avg       0.84      0.84      0.84      8222\n",
      "\n"
     ]
    }
   ],
   "source": [
    "#Classification report\n",
    "print(\"classification report:\\n\",classification_report(y_train,train_predict))\n",
    "print(\"classification report:\\n\",classification_report(y_test,predict))"
   ]
  },
  {
   "cell_type": "code",
   "execution_count": 61,
   "metadata": {},
   "outputs": [],
   "source": [
    "from sklearn.metrics import auc,roc_curve,confusion_matrix"
   ]
  },
  {
   "cell_type": "code",
   "execution_count": 59,
   "metadata": {},
   "outputs": [],
   "source": [
    "#Computing TPR FPR values\n",
    "FPR_train,TPR_train,_=roc_curve(y_train,train_predict)\n",
    "FPR,TPR,_1=roc_curve(y_test,predict)"
   ]
  },
  {
   "cell_type": "code",
   "execution_count": 60,
   "metadata": {},
   "outputs": [
    {
     "name": "stdout",
     "output_type": "stream",
     "text": [
      "ROC AUC:0.864\n",
      "ROC AUC:0.840\n"
     ]
    }
   ],
   "source": [
    "roc_auc=auc(FPR_train,TPR_train)\n",
    "print(\"ROC AUC:%0.3f\" % roc_auc)\n",
    "\n",
    "\n",
    "roc_auc1=auc(FPR,TPR)\n",
    "print(\"ROC AUC:%0.3f\" % roc_auc1)"
   ]
  },
  {
   "cell_type": "code",
   "execution_count": 62,
   "metadata": {},
   "outputs": [],
   "source": [
    "cm=confusion_matrix(y_test,predict)"
   ]
  },
  {
   "cell_type": "code",
   "execution_count": 64,
   "metadata": {},
   "outputs": [],
   "source": [
    "cm=pd.DataFrame(cm)"
   ]
  },
  {
   "cell_type": "code",
   "execution_count": 65,
   "metadata": {},
   "outputs": [
    {
     "data": {
      "text/html": [
       "<div>\n",
       "<style scoped>\n",
       "    .dataframe tbody tr th:only-of-type {\n",
       "        vertical-align: middle;\n",
       "    }\n",
       "\n",
       "    .dataframe tbody tr th {\n",
       "        vertical-align: top;\n",
       "    }\n",
       "\n",
       "    .dataframe thead th {\n",
       "        text-align: right;\n",
       "    }\n",
       "</style>\n",
       "<table border=\"1\" class=\"dataframe\">\n",
       "  <thead>\n",
       "    <tr style=\"text-align: right;\">\n",
       "      <th></th>\n",
       "      <th>0</th>\n",
       "      <th>1</th>\n",
       "    </tr>\n",
       "  </thead>\n",
       "  <tbody>\n",
       "    <tr>\n",
       "      <td>0</td>\n",
       "      <td>3433</td>\n",
       "      <td>696</td>\n",
       "    </tr>\n",
       "    <tr>\n",
       "      <td>1</td>\n",
       "      <td>617</td>\n",
       "      <td>3476</td>\n",
       "    </tr>\n",
       "  </tbody>\n",
       "</table>\n",
       "</div>"
      ],
      "text/plain": [
       "      0     1\n",
       "0  3433   696\n",
       "1   617  3476"
      ]
     },
     "execution_count": 65,
     "metadata": {},
     "output_type": "execute_result"
    }
   ],
   "source": [
    "cm"
   ]
  },
  {
   "cell_type": "code",
   "execution_count": 66,
   "metadata": {},
   "outputs": [],
   "source": [
    "import seaborn as sns"
   ]
  },
  {
   "cell_type": "code",
   "execution_count": 77,
   "metadata": {},
   "outputs": [
    {
     "data": {
      "text/plain": [
       "<matplotlib.axes._subplots.AxesSubplot at 0x1b603534748>"
      ]
     },
     "execution_count": 77,
     "metadata": {},
     "output_type": "execute_result"
    },
    {
     "data": {
      "image/png": "[encoded data removed]",
      "text/plain": [
       "<Figure size 432x288 with 1 Axes>"
      ]
     },
     "metadata": {},
     "output_type": "display_data"
    }
   ],
   "source": [
    "#Plotting the confusion matrix\n",
    "sns.set(font_scale=1.5)\n",
    "sns.heatmap(cm,annot=True,fmt=\"g\",annot_kws={\"size\":20},cbar=False)"
   ]
  },
  {
   "cell_type": "code",
   "execution_count": 74,
   "metadata": {},
   "outputs": [
    {
     "data": {
      "image/png": "[encoded data removed]",
      "text/plain": [
       "<Figure size 432x288 with 1 Axes>"
      ]
     },
     "metadata": {
      "needs_background": "light"
     },
     "output_type": "display_data"
    }
   ],
   "source": [
    "plt.plot(FPR,TPR,color=\"blue\",label=\"Test ROC CURVE\")\n",
    "plt.plot(FPR_train,TPR_train,color=\"red\",label=\"Trained ROC CURVE\")\n",
    "plt.plot([0,1],[0,1],\"k--\")\n",
    "plt.xlabel(\"Folse possitive rate\")\n",
    "plt.ylabel(\"True possitive rate\")\n",
    "plt.title(\"ROC CURVE\")\n",
    "plt.legend(loc=\"lower right\")\n",
    "plt.show()"
   ]
  },
  {
   "cell_type": "code",
   "execution_count": 38,
   "metadata": {},
   "outputs": [],
   "source": [
    "#Reading the data to which prediction has to be done\n",
    "future_data=pd.read_csv(\"test.csv\")"
   ]
  },
  {
   "cell_type": "code",
   "execution_count": 39,
   "metadata": {},
   "outputs": [
    {
     "data": {
      "text/html": [
       "<div>\n",
       "<style scoped>\n",
       "    .dataframe tbody tr th:only-of-type {\n",
       "        vertical-align: middle;\n",
       "    }\n",
       "\n",
       "    .dataframe tbody tr th {\n",
       "        vertical-align: top;\n",
       "    }\n",
       "\n",
       "    .dataframe thead th {\n",
       "        text-align: right;\n",
       "    }\n",
       "</style>\n",
       "<table border=\"1\" class=\"dataframe\">\n",
       "  <thead>\n",
       "    <tr style=\"text-align: right;\">\n",
       "      <th></th>\n",
       "      <th>name</th>\n",
       "    </tr>\n",
       "  </thead>\n",
       "  <tbody>\n",
       "    <tr>\n",
       "      <td>0</td>\n",
       "      <td>Maliq</td>\n",
       "    </tr>\n",
       "    <tr>\n",
       "      <td>1</td>\n",
       "      <td>Tyquez</td>\n",
       "    </tr>\n",
       "    <tr>\n",
       "      <td>2</td>\n",
       "      <td>Voshon</td>\n",
       "    </tr>\n",
       "    <tr>\n",
       "      <td>3</td>\n",
       "      <td>Adonys</td>\n",
       "    </tr>\n",
       "    <tr>\n",
       "      <td>4</td>\n",
       "      <td>Braison</td>\n",
       "    </tr>\n",
       "  </tbody>\n",
       "</table>\n",
       "</div>"
      ],
      "text/plain": [
       "      name\n",
       "0    Maliq\n",
       "1   Tyquez\n",
       "2   Voshon\n",
       "3   Adonys\n",
       "4  Braison"
      ]
     },
     "execution_count": 39,
     "metadata": {},
     "output_type": "execute_result"
    }
   ],
   "source": [
    "future_data.head()"
   ]
  },
  {
   "cell_type": "code",
   "execution_count": 40,
   "metadata": {},
   "outputs": [],
   "source": [
    "future_data[\"name\"]=future_data[\"name\"].str.lower()"
   ]
  },
  {
   "cell_type": "code",
   "execution_count": 41,
   "metadata": {},
   "outputs": [],
   "source": [
    "expanded_f=[]\n",
    "for i in future_data[\"name\"]:\n",
    "    expanded_f.append(i[0]+\" \"+i[:2]+\" \"+i[:3]+\" \"+i[-1]+\" \"+i[-3:]+\" \"+i[-2:])\n",
    "    "
   ]
  },
  {
   "cell_type": "code",
   "execution_count": 42,
   "metadata": {},
   "outputs": [],
   "source": [
    "future_data[\"expanded\"]=pd.DataFrame(expanded_f)"
   ]
  },
  {
   "cell_type": "code",
   "execution_count": 43,
   "metadata": {},
   "outputs": [
    {
     "data": {
      "text/html": [
       "<div>\n",
       "<style scoped>\n",
       "    .dataframe tbody tr th:only-of-type {\n",
       "        vertical-align: middle;\n",
       "    }\n",
       "\n",
       "    .dataframe tbody tr th {\n",
       "        vertical-align: top;\n",
       "    }\n",
       "\n",
       "    .dataframe thead th {\n",
       "        text-align: right;\n",
       "    }\n",
       "</style>\n",
       "<table border=\"1\" class=\"dataframe\">\n",
       "  <thead>\n",
       "    <tr style=\"text-align: right;\">\n",
       "      <th></th>\n",
       "      <th>name</th>\n",
       "      <th>expanded</th>\n",
       "    </tr>\n",
       "  </thead>\n",
       "  <tbody>\n",
       "    <tr>\n",
       "      <td>0</td>\n",
       "      <td>maliq</td>\n",
       "      <td>m ma mal q liq iq</td>\n",
       "    </tr>\n",
       "    <tr>\n",
       "      <td>1</td>\n",
       "      <td>tyquez</td>\n",
       "      <td>t ty tyq z uez ez</td>\n",
       "    </tr>\n",
       "    <tr>\n",
       "      <td>2</td>\n",
       "      <td>voshon</td>\n",
       "      <td>v vo vos n hon on</td>\n",
       "    </tr>\n",
       "    <tr>\n",
       "      <td>3</td>\n",
       "      <td>adonys</td>\n",
       "      <td>a ad ado s nys ys</td>\n",
       "    </tr>\n",
       "    <tr>\n",
       "      <td>4</td>\n",
       "      <td>braison</td>\n",
       "      <td>b br bra n son on</td>\n",
       "    </tr>\n",
       "  </tbody>\n",
       "</table>\n",
       "</div>"
      ],
      "text/plain": [
       "      name           expanded\n",
       "0    maliq  m ma mal q liq iq\n",
       "1   tyquez  t ty tyq z uez ez\n",
       "2   voshon  v vo vos n hon on\n",
       "3   adonys  a ad ado s nys ys\n",
       "4  braison  b br bra n son on"
      ]
     },
     "execution_count": 43,
     "metadata": {},
     "output_type": "execute_result"
    }
   ],
   "source": [
    "future_data.head()"
   ]
  },
  {
   "cell_type": "code",
   "execution_count": 44,
   "metadata": {},
   "outputs": [],
   "source": [
    "test_xtf=tfidf.transform(future_data[\"expanded\"]).toarray()"
   ]
  },
  {
   "cell_type": "code",
   "execution_count": 45,
   "metadata": {},
   "outputs": [
    {
     "data": {
      "text/plain": [
       "(35025, 4667)"
      ]
     },
     "execution_count": 45,
     "metadata": {},
     "output_type": "execute_result"
    }
   ],
   "source": [
    "test_xtf.shape"
   ]
  },
  {
   "cell_type": "code",
   "execution_count": 46,
   "metadata": {},
   "outputs": [],
   "source": [
    "#Prediction\n",
    "gender=mn.predict(test_xtf)"
   ]
  },
  {
   "cell_type": "code",
   "execution_count": 47,
   "metadata": {},
   "outputs": [
    {
     "data": {
      "text/plain": [
       "array([0, 0, 0, ..., 1, 0, 0])"
      ]
     },
     "execution_count": 47,
     "metadata": {},
     "output_type": "execute_result"
    }
   ],
   "source": [
    "gender"
   ]
  },
  {
   "cell_type": "code",
   "execution_count": 48,
   "metadata": {},
   "outputs": [
    {
     "data": {
      "text/plain": [
       "1    20851\n",
       "0    14174\n",
       "Name: 0, dtype: int64"
      ]
     },
     "execution_count": 48,
     "metadata": {},
     "output_type": "execute_result"
    }
   ],
   "source": [
    "pd.DataFrame(gender)[0].value_counts()"
   ]
  },
  {
   "cell_type": "code",
   "execution_count": 49,
   "metadata": {},
   "outputs": [],
   "source": [
    "gender=np.where(gender==1,\"F\",\"M\")"
   ]
  },
  {
   "cell_type": "code",
   "execution_count": 50,
   "metadata": {},
   "outputs": [],
   "source": [
    "future_data[\"gender\"]=pd.DataFrame(gender)"
   ]
  },
  {
   "cell_type": "code",
   "execution_count": 51,
   "metadata": {},
   "outputs": [
    {
     "data": {
      "text/html": [
       "<div>\n",
       "<style scoped>\n",
       "    .dataframe tbody tr th:only-of-type {\n",
       "        vertical-align: middle;\n",
       "    }\n",
       "\n",
       "    .dataframe tbody tr th {\n",
       "        vertical-align: top;\n",
       "    }\n",
       "\n",
       "    .dataframe thead th {\n",
       "        text-align: right;\n",
       "    }\n",
       "</style>\n",
       "<table border=\"1\" class=\"dataframe\">\n",
       "  <thead>\n",
       "    <tr style=\"text-align: right;\">\n",
       "      <th></th>\n",
       "      <th>name</th>\n",
       "      <th>expanded</th>\n",
       "      <th>gender</th>\n",
       "    </tr>\n",
       "  </thead>\n",
       "  <tbody>\n",
       "    <tr>\n",
       "      <td>0</td>\n",
       "      <td>maliq</td>\n",
       "      <td>m ma mal q liq iq</td>\n",
       "      <td>M</td>\n",
       "    </tr>\n",
       "    <tr>\n",
       "      <td>1</td>\n",
       "      <td>tyquez</td>\n",
       "      <td>t ty tyq z uez ez</td>\n",
       "      <td>M</td>\n",
       "    </tr>\n",
       "    <tr>\n",
       "      <td>2</td>\n",
       "      <td>voshon</td>\n",
       "      <td>v vo vos n hon on</td>\n",
       "      <td>M</td>\n",
       "    </tr>\n",
       "    <tr>\n",
       "      <td>3</td>\n",
       "      <td>adonys</td>\n",
       "      <td>a ad ado s nys ys</td>\n",
       "      <td>M</td>\n",
       "    </tr>\n",
       "    <tr>\n",
       "      <td>4</td>\n",
       "      <td>braison</td>\n",
       "      <td>b br bra n son on</td>\n",
       "      <td>M</td>\n",
       "    </tr>\n",
       "  </tbody>\n",
       "</table>\n",
       "</div>"
      ],
      "text/plain": [
       "      name           expanded gender\n",
       "0    maliq  m ma mal q liq iq      M\n",
       "1   tyquez  t ty tyq z uez ez      M\n",
       "2   voshon  v vo vos n hon on      M\n",
       "3   adonys  a ad ado s nys ys      M\n",
       "4  braison  b br bra n son on      M"
      ]
     },
     "execution_count": 51,
     "metadata": {},
     "output_type": "execute_result"
    }
   ],
   "source": [
    "future_data.head()"
   ]
  },
  {
   "cell_type": "code",
   "execution_count": 52,
   "metadata": {},
   "outputs": [
    {
     "data": {
      "text/plain": [
       "F    20851\n",
       "M    14174\n",
       "Name: gender, dtype: int64"
      ]
     },
     "execution_count": 52,
     "metadata": {},
     "output_type": "execute_result"
    }
   ],
   "source": [
    "future_data[\"gender\"].value_counts()"
   ]
  }
 ],
 "metadata": {
  "kernelspec": {
   "display_name": "Python 3",
   "language": "python",
   "name": "python3"
  },
  "language_info": {
   "codemirror_mode": {
    "name": "ipython",
    "version": 3
   },
   "file_extension": ".py",
   "mimetype": "text/x-python",
   "name": "python",
   "nbconvert_exporter": "python",
   "pygments_lexer": "ipython3",
   "version": "3.7.4"
  }
 },
 "nbformat": 4,
 "nbformat_minor": 2
}
